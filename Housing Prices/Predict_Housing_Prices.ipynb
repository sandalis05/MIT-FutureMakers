{
  "nbformat": 4,
  "nbformat_minor": 0,
  "metadata": {
    "colab": {
      "name": "Predict Housing Prices.ipynb",
      "provenance": [],
      "authorship_tag": "ABX9TyO6yNzqcHj+sQe5vCCtnTsG",
      "include_colab_link": true
    },
    "kernelspec": {
      "name": "python3",
      "display_name": "Python 3"
    },
    "language_info": {
      "name": "python"
    }
  },
  "cells": [
    {
      "cell_type": "markdown",
      "metadata": {
        "id": "view-in-github",
        "colab_type": "text"
      },
      "source": [
        "<a href=\"https://colab.research.google.com/github/sandalis05/MIT-FutureMakers/blob/main/Housing%20Prices/Predict_Housing_Prices.ipynb\" target=\"_parent\"><img src=\"https://colab.research.google.com/assets/colab-badge.svg\" alt=\"Open In Colab\"/></a>"
      ]
    },
    {
      "cell_type": "code",
      "metadata": {
        "colab": {
          "resources": {
            "http://localhost:8080/nbextensions/google.colab/files.js": {
              "data": "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",
              "ok": true,
              "headers": [
                [
                  "content-type",
                  "application/javascript"
                ]
              ],
              "status": 200,
              "status_text": ""
            }
          },
          "base_uri": "https://localhost:8080/",
          "height": 72
        },
        "id": "J_1lI5PLpToY",
        "outputId": "a577cdf1-f56f-4351-cca1-ba163c9f8665"
      },
      "source": [
        "from google.colab import files\n",
        "uploaded = files.upload()"
      ],
      "execution_count": 2,
      "outputs": [
        {
          "output_type": "display_data",
          "data": {
            "text/html": [
              "\n",
              "     <input type=\"file\" id=\"files-615561d5-cc00-4b80-bac0-0bd24bd0b336\" name=\"files[]\" multiple disabled\n",
              "        style=\"border:none\" />\n",
              "     <output id=\"result-615561d5-cc00-4b80-bac0-0bd24bd0b336\">\n",
              "      Upload widget is only available when the cell has been executed in the\n",
              "      current browser session. Please rerun this cell to enable.\n",
              "      </output>\n",
              "      <script src=\"/nbextensions/google.colab/files.js\"></script> "
            ],
            "text/plain": [
              "<IPython.core.display.HTML object>"
            ]
          },
          "metadata": {
            "tags": []
          }
        },
        {
          "output_type": "stream",
          "text": [
            "Saving housepricedata.csv to housepricedata.csv\n"
          ],
          "name": "stdout"
        }
      ]
    },
    {
      "cell_type": "code",
      "metadata": {
        "colab": {
          "base_uri": "https://localhost:8080/"
        },
        "id": "8OFGB0kKrWI7",
        "outputId": "013bb7ea-4947-4005-ed97-502583eac85b"
      },
      "source": [
        "from google.colab import drive\n",
        "drive.mount('/content/drive')"
      ],
      "execution_count": 4,
      "outputs": [
        {
          "output_type": "stream",
          "text": [
            "Mounted at /content/drive\n"
          ],
          "name": "stdout"
        }
      ]
    },
    {
      "cell_type": "code",
      "metadata": {
        "colab": {
          "base_uri": "https://localhost:8080/",
          "height": 419
        },
        "id": "ZyF9oBKVry0K",
        "outputId": "77a62355-fe12-4d1f-ba46-b8ba180acbdd"
      },
      "source": [
        "import pandas as pd\n",
        "\n",
        "df = pd.read_csv('housepricedata.csv')\n",
        "df\n"
      ],
      "execution_count": 5,
      "outputs": [
        {
          "output_type": "execute_result",
          "data": {
            "text/html": [
              "<div>\n",
              "<style scoped>\n",
              "    .dataframe tbody tr th:only-of-type {\n",
              "        vertical-align: middle;\n",
              "    }\n",
              "\n",
              "    .dataframe tbody tr th {\n",
              "        vertical-align: top;\n",
              "    }\n",
              "\n",
              "    .dataframe thead th {\n",
              "        text-align: right;\n",
              "    }\n",
              "</style>\n",
              "<table border=\"1\" class=\"dataframe\">\n",
              "  <thead>\n",
              "    <tr style=\"text-align: right;\">\n",
              "      <th></th>\n",
              "      <th>LotArea</th>\n",
              "      <th>OverallQual</th>\n",
              "      <th>OverallCond</th>\n",
              "      <th>TotalBsmtSF</th>\n",
              "      <th>FullBath</th>\n",
              "      <th>HalfBath</th>\n",
              "      <th>BedroomAbvGr</th>\n",
              "      <th>TotRmsAbvGrd</th>\n",
              "      <th>Fireplaces</th>\n",
              "      <th>GarageArea</th>\n",
              "      <th>AboveMedianPrice</th>\n",
              "    </tr>\n",
              "  </thead>\n",
              "  <tbody>\n",
              "    <tr>\n",
              "      <th>0</th>\n",
              "      <td>8450</td>\n",
              "      <td>7</td>\n",
              "      <td>5</td>\n",
              "      <td>856</td>\n",
              "      <td>2</td>\n",
              "      <td>1</td>\n",
              "      <td>3</td>\n",
              "      <td>8</td>\n",
              "      <td>0</td>\n",
              "      <td>548</td>\n",
              "      <td>1</td>\n",
              "    </tr>\n",
              "    <tr>\n",
              "      <th>1</th>\n",
              "      <td>9600</td>\n",
              "      <td>6</td>\n",
              "      <td>8</td>\n",
              "      <td>1262</td>\n",
              "      <td>2</td>\n",
              "      <td>0</td>\n",
              "      <td>3</td>\n",
              "      <td>6</td>\n",
              "      <td>1</td>\n",
              "      <td>460</td>\n",
              "      <td>1</td>\n",
              "    </tr>\n",
              "    <tr>\n",
              "      <th>2</th>\n",
              "      <td>11250</td>\n",
              "      <td>7</td>\n",
              "      <td>5</td>\n",
              "      <td>920</td>\n",
              "      <td>2</td>\n",
              "      <td>1</td>\n",
              "      <td>3</td>\n",
              "      <td>6</td>\n",
              "      <td>1</td>\n",
              "      <td>608</td>\n",
              "      <td>1</td>\n",
              "    </tr>\n",
              "    <tr>\n",
              "      <th>3</th>\n",
              "      <td>9550</td>\n",
              "      <td>7</td>\n",
              "      <td>5</td>\n",
              "      <td>756</td>\n",
              "      <td>1</td>\n",
              "      <td>0</td>\n",
              "      <td>3</td>\n",
              "      <td>7</td>\n",
              "      <td>1</td>\n",
              "      <td>642</td>\n",
              "      <td>0</td>\n",
              "    </tr>\n",
              "    <tr>\n",
              "      <th>4</th>\n",
              "      <td>14260</td>\n",
              "      <td>8</td>\n",
              "      <td>5</td>\n",
              "      <td>1145</td>\n",
              "      <td>2</td>\n",
              "      <td>1</td>\n",
              "      <td>4</td>\n",
              "      <td>9</td>\n",
              "      <td>1</td>\n",
              "      <td>836</td>\n",
              "      <td>1</td>\n",
              "    </tr>\n",
              "    <tr>\n",
              "      <th>...</th>\n",
              "      <td>...</td>\n",
              "      <td>...</td>\n",
              "      <td>...</td>\n",
              "      <td>...</td>\n",
              "      <td>...</td>\n",
              "      <td>...</td>\n",
              "      <td>...</td>\n",
              "      <td>...</td>\n",
              "      <td>...</td>\n",
              "      <td>...</td>\n",
              "      <td>...</td>\n",
              "    </tr>\n",
              "    <tr>\n",
              "      <th>1455</th>\n",
              "      <td>7917</td>\n",
              "      <td>6</td>\n",
              "      <td>5</td>\n",
              "      <td>953</td>\n",
              "      <td>2</td>\n",
              "      <td>1</td>\n",
              "      <td>3</td>\n",
              "      <td>7</td>\n",
              "      <td>1</td>\n",
              "      <td>460</td>\n",
              "      <td>1</td>\n",
              "    </tr>\n",
              "    <tr>\n",
              "      <th>1456</th>\n",
              "      <td>13175</td>\n",
              "      <td>6</td>\n",
              "      <td>6</td>\n",
              "      <td>1542</td>\n",
              "      <td>2</td>\n",
              "      <td>0</td>\n",
              "      <td>3</td>\n",
              "      <td>7</td>\n",
              "      <td>2</td>\n",
              "      <td>500</td>\n",
              "      <td>1</td>\n",
              "    </tr>\n",
              "    <tr>\n",
              "      <th>1457</th>\n",
              "      <td>9042</td>\n",
              "      <td>7</td>\n",
              "      <td>9</td>\n",
              "      <td>1152</td>\n",
              "      <td>2</td>\n",
              "      <td>0</td>\n",
              "      <td>4</td>\n",
              "      <td>9</td>\n",
              "      <td>2</td>\n",
              "      <td>252</td>\n",
              "      <td>1</td>\n",
              "    </tr>\n",
              "    <tr>\n",
              "      <th>1458</th>\n",
              "      <td>9717</td>\n",
              "      <td>5</td>\n",
              "      <td>6</td>\n",
              "      <td>1078</td>\n",
              "      <td>1</td>\n",
              "      <td>0</td>\n",
              "      <td>2</td>\n",
              "      <td>5</td>\n",
              "      <td>0</td>\n",
              "      <td>240</td>\n",
              "      <td>0</td>\n",
              "    </tr>\n",
              "    <tr>\n",
              "      <th>1459</th>\n",
              "      <td>9937</td>\n",
              "      <td>5</td>\n",
              "      <td>6</td>\n",
              "      <td>1256</td>\n",
              "      <td>1</td>\n",
              "      <td>1</td>\n",
              "      <td>3</td>\n",
              "      <td>6</td>\n",
              "      <td>0</td>\n",
              "      <td>276</td>\n",
              "      <td>0</td>\n",
              "    </tr>\n",
              "  </tbody>\n",
              "</table>\n",
              "<p>1460 rows × 11 columns</p>\n",
              "</div>"
            ],
            "text/plain": [
              "      LotArea  OverallQual  ...  GarageArea  AboveMedianPrice\n",
              "0        8450            7  ...         548                 1\n",
              "1        9600            6  ...         460                 1\n",
              "2       11250            7  ...         608                 1\n",
              "3        9550            7  ...         642                 0\n",
              "4       14260            8  ...         836                 1\n",
              "...       ...          ...  ...         ...               ...\n",
              "1455     7917            6  ...         460                 1\n",
              "1456    13175            6  ...         500                 1\n",
              "1457     9042            7  ...         252                 1\n",
              "1458     9717            5  ...         240                 0\n",
              "1459     9937            5  ...         276                 0\n",
              "\n",
              "[1460 rows x 11 columns]"
            ]
          },
          "metadata": {
            "tags": []
          },
          "execution_count": 5
        }
      ]
    },
    {
      "cell_type": "code",
      "metadata": {
        "colab": {
          "base_uri": "https://localhost:8080/"
        },
        "id": "nKz2YtvVsACc",
        "outputId": "cb2f9270-b8fa-414f-a1a8-98fe348c1a48"
      },
      "source": [
        "dataset = df.values\n",
        "dataset"
      ],
      "execution_count": 6,
      "outputs": [
        {
          "output_type": "execute_result",
          "data": {
            "text/plain": [
              "array([[ 8450,     7,     5, ...,     0,   548,     1],\n",
              "       [ 9600,     6,     8, ...,     1,   460,     1],\n",
              "       [11250,     7,     5, ...,     1,   608,     1],\n",
              "       ...,\n",
              "       [ 9042,     7,     9, ...,     2,   252,     1],\n",
              "       [ 9717,     5,     6, ...,     0,   240,     0],\n",
              "       [ 9937,     5,     6, ...,     0,   276,     0]])"
            ]
          },
          "metadata": {
            "tags": []
          },
          "execution_count": 6
        }
      ]
    },
    {
      "cell_type": "code",
      "metadata": {
        "id": "9Me1LhYisH5O"
      },
      "source": [
        "X = dataset[:,0:10]\n",
        "Y = dataset[:,10]"
      ],
      "execution_count": 7,
      "outputs": []
    },
    {
      "cell_type": "code",
      "metadata": {
        "colab": {
          "base_uri": "https://localhost:8080/"
        },
        "id": "HkFkdHhPsY4b",
        "outputId": "b304a67b-8302-48b2-bde5-286c787a5e1a"
      },
      "source": [
        "from sklearn import preprocessing\n",
        "\n",
        "min_max_scaler = preprocessing.MinMaxScaler()\n",
        "X_scale = min_max_scaler.fit_transform(X)\n",
        "\n",
        "X_scale"
      ],
      "execution_count": 8,
      "outputs": [
        {
          "output_type": "execute_result",
          "data": {
            "text/plain": [
              "array([[0.0334198 , 0.66666667, 0.5       , ..., 0.5       , 0.        ,\n",
              "        0.3864598 ],\n",
              "       [0.03879502, 0.55555556, 0.875     , ..., 0.33333333, 0.33333333,\n",
              "        0.32440056],\n",
              "       [0.04650728, 0.66666667, 0.5       , ..., 0.33333333, 0.33333333,\n",
              "        0.42877292],\n",
              "       ...,\n",
              "       [0.03618687, 0.66666667, 1.        , ..., 0.58333333, 0.66666667,\n",
              "        0.17771509],\n",
              "       [0.03934189, 0.44444444, 0.625     , ..., 0.25      , 0.        ,\n",
              "        0.16925247],\n",
              "       [0.04037019, 0.44444444, 0.625     , ..., 0.33333333, 0.        ,\n",
              "        0.19464034]])"
            ]
          },
          "metadata": {
            "tags": []
          },
          "execution_count": 8
        }
      ]
    },
    {
      "cell_type": "code",
      "metadata": {
        "colab": {
          "base_uri": "https://localhost:8080/"
        },
        "id": "sBjo6wvcskiF",
        "outputId": "7fea47eb-4136-4cba-a9e9-14959fae640a"
      },
      "source": [
        "from sklearn.model_selection import train_test_split\n",
        "\n",
        "#train split\n",
        "X_train, X_val_and_test, Y_train, Y_val_and_test = train_test_split(X_scale, Y, test_size=0.3)\n",
        "#validation and test split\n",
        "X_val, X_test, Y_val, Y_test = train_test_split(X_val_and_test, Y_val_and_test, test_size=0.5)\n",
        "\n",
        "print(X_train.shape, X_val.shape, X_test.shape, Y_train.shape, Y_val.shape, Y_test.shape)"
      ],
      "execution_count": 9,
      "outputs": [
        {
          "output_type": "stream",
          "text": [
            "(1022, 10) (219, 10) (219, 10) (1022,) (219,) (219,)\n"
          ],
          "name": "stdout"
        }
      ]
    },
    {
      "cell_type": "code",
      "metadata": {
        "colab": {
          "base_uri": "https://localhost:8080/"
        },
        "id": "CQcMpT5gtf5s",
        "outputId": "3af52d6f-3570-4956-a0f2-294449888636"
      },
      "source": [
        "from keras.models import Sequential\n",
        "from keras.layers import Dense\n",
        "\n",
        "model = Sequential([\n",
        "    Dense(32, activation='relu', input_shape=(10,)),\n",
        "    Dense(32, activation='relu'),\n",
        "    Dense(1, activation='sigmoid'),\n",
        "])\n",
        "\n",
        "model.compile(optimizer='sgd',\n",
        "              loss='binary_crossentropy',\n",
        "              metrics=['accuracy'])\n",
        "\n",
        "hist = model.fit(X_train, Y_train,\n",
        "          batch_size=32, epochs=100,\n",
        "          validation_data=(X_val, Y_val))"
      ],
      "execution_count": 15,
      "outputs": [
        {
          "output_type": "stream",
          "text": [
            "Epoch 1/100\n",
            "32/32 [==============================] - 1s 10ms/step - loss: 0.6967 - accuracy: 0.4723 - val_loss: 0.6915 - val_accuracy: 0.5068\n",
            "Epoch 2/100\n",
            "32/32 [==============================] - 0s 2ms/step - loss: 0.6915 - accuracy: 0.4866 - val_loss: 0.6864 - val_accuracy: 0.5205\n",
            "Epoch 3/100\n",
            "32/32 [==============================] - 0s 2ms/step - loss: 0.6848 - accuracy: 0.5158 - val_loss: 0.6806 - val_accuracy: 0.5388\n",
            "Epoch 4/100\n",
            "32/32 [==============================] - 0s 2ms/step - loss: 0.6814 - accuracy: 0.5186 - val_loss: 0.6745 - val_accuracy: 0.5982\n",
            "Epoch 5/100\n",
            "32/32 [==============================] - 0s 2ms/step - loss: 0.6756 - accuracy: 0.5660 - val_loss: 0.6701 - val_accuracy: 0.6484\n",
            "Epoch 6/100\n",
            "32/32 [==============================] - 0s 2ms/step - loss: 0.6737 - accuracy: 0.6345 - val_loss: 0.6665 - val_accuracy: 0.6758\n",
            "Epoch 7/100\n",
            "32/32 [==============================] - 0s 2ms/step - loss: 0.6694 - accuracy: 0.6556 - val_loss: 0.6631 - val_accuracy: 0.7260\n",
            "Epoch 8/100\n",
            "32/32 [==============================] - 0s 2ms/step - loss: 0.6641 - accuracy: 0.6945 - val_loss: 0.6596 - val_accuracy: 0.7397\n",
            "Epoch 9/100\n",
            "32/32 [==============================] - 0s 2ms/step - loss: 0.6663 - accuracy: 0.7041 - val_loss: 0.6559 - val_accuracy: 0.7443\n",
            "Epoch 10/100\n",
            "32/32 [==============================] - 0s 2ms/step - loss: 0.6627 - accuracy: 0.7072 - val_loss: 0.6523 - val_accuracy: 0.7534\n",
            "Epoch 11/100\n",
            "32/32 [==============================] - 0s 2ms/step - loss: 0.6592 - accuracy: 0.7285 - val_loss: 0.6485 - val_accuracy: 0.7763\n",
            "Epoch 12/100\n",
            "32/32 [==============================] - 0s 2ms/step - loss: 0.6521 - accuracy: 0.7435 - val_loss: 0.6447 - val_accuracy: 0.7945\n",
            "Epoch 13/100\n",
            "32/32 [==============================] - 0s 2ms/step - loss: 0.6478 - accuracy: 0.7658 - val_loss: 0.6407 - val_accuracy: 0.8219\n",
            "Epoch 14/100\n",
            "32/32 [==============================] - 0s 2ms/step - loss: 0.6485 - accuracy: 0.7869 - val_loss: 0.6363 - val_accuracy: 0.8219\n",
            "Epoch 15/100\n",
            "32/32 [==============================] - 0s 2ms/step - loss: 0.6411 - accuracy: 0.8053 - val_loss: 0.6319 - val_accuracy: 0.8311\n",
            "Epoch 16/100\n",
            "32/32 [==============================] - 0s 2ms/step - loss: 0.6383 - accuracy: 0.7828 - val_loss: 0.6273 - val_accuracy: 0.8447\n",
            "Epoch 17/100\n",
            "32/32 [==============================] - 0s 2ms/step - loss: 0.6341 - accuracy: 0.7989 - val_loss: 0.6225 - val_accuracy: 0.8539\n",
            "Epoch 18/100\n",
            "32/32 [==============================] - 0s 2ms/step - loss: 0.6317 - accuracy: 0.7982 - val_loss: 0.6173 - val_accuracy: 0.8539\n",
            "Epoch 19/100\n",
            "32/32 [==============================] - 0s 2ms/step - loss: 0.6257 - accuracy: 0.7939 - val_loss: 0.6119 - val_accuracy: 0.8584\n",
            "Epoch 20/100\n",
            "32/32 [==============================] - 0s 2ms/step - loss: 0.6190 - accuracy: 0.8214 - val_loss: 0.6062 - val_accuracy: 0.8539\n",
            "Epoch 21/100\n",
            "32/32 [==============================] - 0s 2ms/step - loss: 0.6146 - accuracy: 0.8061 - val_loss: 0.6003 - val_accuracy: 0.8539\n",
            "Epoch 22/100\n",
            "32/32 [==============================] - 0s 2ms/step - loss: 0.6081 - accuracy: 0.8281 - val_loss: 0.5941 - val_accuracy: 0.8539\n",
            "Epoch 23/100\n",
            "32/32 [==============================] - 0s 2ms/step - loss: 0.6028 - accuracy: 0.8201 - val_loss: 0.5878 - val_accuracy: 0.8630\n",
            "Epoch 24/100\n",
            "32/32 [==============================] - 0s 2ms/step - loss: 0.5978 - accuracy: 0.8266 - val_loss: 0.5809 - val_accuracy: 0.8630\n",
            "Epoch 25/100\n",
            "32/32 [==============================] - 0s 2ms/step - loss: 0.5907 - accuracy: 0.7994 - val_loss: 0.5740 - val_accuracy: 0.8676\n",
            "Epoch 26/100\n",
            "32/32 [==============================] - 0s 2ms/step - loss: 0.5850 - accuracy: 0.8209 - val_loss: 0.5666 - val_accuracy: 0.8676\n",
            "Epoch 27/100\n",
            "32/32 [==============================] - 0s 2ms/step - loss: 0.5815 - accuracy: 0.8044 - val_loss: 0.5590 - val_accuracy: 0.8630\n",
            "Epoch 28/100\n",
            "32/32 [==============================] - 0s 2ms/step - loss: 0.5648 - accuracy: 0.8359 - val_loss: 0.5515 - val_accuracy: 0.8584\n",
            "Epoch 29/100\n",
            "32/32 [==============================] - 0s 2ms/step - loss: 0.5689 - accuracy: 0.8246 - val_loss: 0.5433 - val_accuracy: 0.8584\n",
            "Epoch 30/100\n",
            "32/32 [==============================] - 0s 3ms/step - loss: 0.5622 - accuracy: 0.8189 - val_loss: 0.5352 - val_accuracy: 0.8584\n",
            "Epoch 31/100\n",
            "32/32 [==============================] - 0s 2ms/step - loss: 0.5532 - accuracy: 0.8266 - val_loss: 0.5270 - val_accuracy: 0.8676\n",
            "Epoch 32/100\n",
            "32/32 [==============================] - 0s 2ms/step - loss: 0.5554 - accuracy: 0.8207 - val_loss: 0.5183 - val_accuracy: 0.8676\n",
            "Epoch 33/100\n",
            "32/32 [==============================] - 0s 2ms/step - loss: 0.5422 - accuracy: 0.8202 - val_loss: 0.5096 - val_accuracy: 0.8676\n",
            "Epoch 34/100\n",
            "32/32 [==============================] - 0s 2ms/step - loss: 0.5241 - accuracy: 0.8551 - val_loss: 0.5015 - val_accuracy: 0.8813\n",
            "Epoch 35/100\n",
            "32/32 [==============================] - 0s 2ms/step - loss: 0.5237 - accuracy: 0.8412 - val_loss: 0.4926 - val_accuracy: 0.8813\n",
            "Epoch 36/100\n",
            "32/32 [==============================] - 0s 2ms/step - loss: 0.5060 - accuracy: 0.8447 - val_loss: 0.4844 - val_accuracy: 0.8767\n",
            "Epoch 37/100\n",
            "32/32 [==============================] - 0s 2ms/step - loss: 0.5121 - accuracy: 0.8362 - val_loss: 0.4755 - val_accuracy: 0.8813\n",
            "Epoch 38/100\n",
            "32/32 [==============================] - 0s 2ms/step - loss: 0.5077 - accuracy: 0.8314 - val_loss: 0.4656 - val_accuracy: 0.8767\n",
            "Epoch 39/100\n",
            "32/32 [==============================] - 0s 2ms/step - loss: 0.4936 - accuracy: 0.8493 - val_loss: 0.4577 - val_accuracy: 0.8813\n",
            "Epoch 40/100\n",
            "32/32 [==============================] - 0s 2ms/step - loss: 0.4853 - accuracy: 0.8411 - val_loss: 0.4496 - val_accuracy: 0.8813\n",
            "Epoch 41/100\n",
            "32/32 [==============================] - 0s 2ms/step - loss: 0.4734 - accuracy: 0.8472 - val_loss: 0.4400 - val_accuracy: 0.8813\n",
            "Epoch 42/100\n",
            "32/32 [==============================] - 0s 2ms/step - loss: 0.4671 - accuracy: 0.8464 - val_loss: 0.4317 - val_accuracy: 0.8813\n",
            "Epoch 43/100\n",
            "32/32 [==============================] - 0s 2ms/step - loss: 0.4591 - accuracy: 0.8356 - val_loss: 0.4243 - val_accuracy: 0.8721\n",
            "Epoch 44/100\n",
            "32/32 [==============================] - 0s 2ms/step - loss: 0.4535 - accuracy: 0.8514 - val_loss: 0.4164 - val_accuracy: 0.8721\n",
            "Epoch 45/100\n",
            "32/32 [==============================] - 0s 2ms/step - loss: 0.4521 - accuracy: 0.8340 - val_loss: 0.4092 - val_accuracy: 0.8767\n",
            "Epoch 46/100\n",
            "32/32 [==============================] - 0s 2ms/step - loss: 0.4479 - accuracy: 0.8446 - val_loss: 0.4008 - val_accuracy: 0.8721\n",
            "Epoch 47/100\n",
            "32/32 [==============================] - 0s 2ms/step - loss: 0.4515 - accuracy: 0.8383 - val_loss: 0.3942 - val_accuracy: 0.8767\n",
            "Epoch 48/100\n",
            "32/32 [==============================] - 0s 3ms/step - loss: 0.4272 - accuracy: 0.8510 - val_loss: 0.3872 - val_accuracy: 0.8767\n",
            "Epoch 49/100\n",
            "32/32 [==============================] - 0s 2ms/step - loss: 0.4341 - accuracy: 0.8541 - val_loss: 0.3801 - val_accuracy: 0.8767\n",
            "Epoch 50/100\n",
            "32/32 [==============================] - 0s 3ms/step - loss: 0.4135 - accuracy: 0.8617 - val_loss: 0.3733 - val_accuracy: 0.8767\n",
            "Epoch 51/100\n",
            "32/32 [==============================] - 0s 2ms/step - loss: 0.4008 - accuracy: 0.8708 - val_loss: 0.3673 - val_accuracy: 0.8767\n",
            "Epoch 52/100\n",
            "32/32 [==============================] - 0s 2ms/step - loss: 0.4141 - accuracy: 0.8451 - val_loss: 0.3609 - val_accuracy: 0.8767\n",
            "Epoch 53/100\n",
            "32/32 [==============================] - 0s 2ms/step - loss: 0.3992 - accuracy: 0.8619 - val_loss: 0.3559 - val_accuracy: 0.8767\n",
            "Epoch 54/100\n",
            "32/32 [==============================] - 0s 2ms/step - loss: 0.3945 - accuracy: 0.8468 - val_loss: 0.3502 - val_accuracy: 0.8767\n",
            "Epoch 55/100\n",
            "32/32 [==============================] - 0s 2ms/step - loss: 0.3990 - accuracy: 0.8454 - val_loss: 0.3454 - val_accuracy: 0.8767\n",
            "Epoch 56/100\n",
            "32/32 [==============================] - 0s 2ms/step - loss: 0.3998 - accuracy: 0.8400 - val_loss: 0.3388 - val_accuracy: 0.8767\n",
            "Epoch 57/100\n",
            "32/32 [==============================] - 0s 2ms/step - loss: 0.3803 - accuracy: 0.8666 - val_loss: 0.3353 - val_accuracy: 0.8767\n",
            "Epoch 58/100\n",
            "32/32 [==============================] - 0s 2ms/step - loss: 0.3766 - accuracy: 0.8543 - val_loss: 0.3318 - val_accuracy: 0.8904\n",
            "Epoch 59/100\n",
            "32/32 [==============================] - 0s 2ms/step - loss: 0.3780 - accuracy: 0.8488 - val_loss: 0.3256 - val_accuracy: 0.8813\n",
            "Epoch 60/100\n",
            "32/32 [==============================] - 0s 2ms/step - loss: 0.3771 - accuracy: 0.8539 - val_loss: 0.3218 - val_accuracy: 0.8904\n",
            "Epoch 61/100\n",
            "32/32 [==============================] - 0s 2ms/step - loss: 0.3617 - accuracy: 0.8660 - val_loss: 0.3173 - val_accuracy: 0.8858\n",
            "Epoch 62/100\n",
            "32/32 [==============================] - 0s 2ms/step - loss: 0.3745 - accuracy: 0.8478 - val_loss: 0.3141 - val_accuracy: 0.8904\n",
            "Epoch 63/100\n",
            "32/32 [==============================] - 0s 2ms/step - loss: 0.3727 - accuracy: 0.8475 - val_loss: 0.3098 - val_accuracy: 0.8950\n",
            "Epoch 64/100\n",
            "32/32 [==============================] - 0s 2ms/step - loss: 0.3655 - accuracy: 0.8565 - val_loss: 0.3101 - val_accuracy: 0.8858\n",
            "Epoch 65/100\n",
            "32/32 [==============================] - 0s 2ms/step - loss: 0.3569 - accuracy: 0.8581 - val_loss: 0.3026 - val_accuracy: 0.8950\n",
            "Epoch 66/100\n",
            "32/32 [==============================] - 0s 2ms/step - loss: 0.3749 - accuracy: 0.8470 - val_loss: 0.2992 - val_accuracy: 0.8950\n",
            "Epoch 67/100\n",
            "32/32 [==============================] - 0s 2ms/step - loss: 0.3585 - accuracy: 0.8628 - val_loss: 0.2957 - val_accuracy: 0.8950\n",
            "Epoch 68/100\n",
            "32/32 [==============================] - 0s 2ms/step - loss: 0.3743 - accuracy: 0.8456 - val_loss: 0.2933 - val_accuracy: 0.8904\n",
            "Epoch 69/100\n",
            "32/32 [==============================] - 0s 2ms/step - loss: 0.3477 - accuracy: 0.8496 - val_loss: 0.2928 - val_accuracy: 0.8904\n",
            "Epoch 70/100\n",
            "32/32 [==============================] - 0s 2ms/step - loss: 0.3453 - accuracy: 0.8670 - val_loss: 0.2893 - val_accuracy: 0.8904\n",
            "Epoch 71/100\n",
            "32/32 [==============================] - 0s 2ms/step - loss: 0.3402 - accuracy: 0.8771 - val_loss: 0.2844 - val_accuracy: 0.8904\n",
            "Epoch 72/100\n",
            "32/32 [==============================] - 0s 3ms/step - loss: 0.3767 - accuracy: 0.8466 - val_loss: 0.2851 - val_accuracy: 0.8904\n",
            "Epoch 73/100\n",
            "32/32 [==============================] - 0s 2ms/step - loss: 0.3450 - accuracy: 0.8678 - val_loss: 0.2816 - val_accuracy: 0.8904\n",
            "Epoch 74/100\n",
            "32/32 [==============================] - 0s 2ms/step - loss: 0.3700 - accuracy: 0.8480 - val_loss: 0.2817 - val_accuracy: 0.8904\n",
            "Epoch 75/100\n",
            "32/32 [==============================] - 0s 2ms/step - loss: 0.3382 - accuracy: 0.8634 - val_loss: 0.2801 - val_accuracy: 0.8904\n",
            "Epoch 76/100\n",
            "32/32 [==============================] - 0s 2ms/step - loss: 0.3504 - accuracy: 0.8576 - val_loss: 0.2750 - val_accuracy: 0.8950\n",
            "Epoch 77/100\n",
            "32/32 [==============================] - 0s 2ms/step - loss: 0.3447 - accuracy: 0.8676 - val_loss: 0.2755 - val_accuracy: 0.8904\n",
            "Epoch 78/100\n",
            "32/32 [==============================] - 0s 2ms/step - loss: 0.3236 - accuracy: 0.8735 - val_loss: 0.2722 - val_accuracy: 0.8950\n",
            "Epoch 79/100\n",
            "32/32 [==============================] - 0s 2ms/step - loss: 0.3370 - accuracy: 0.8712 - val_loss: 0.2703 - val_accuracy: 0.8950\n",
            "Epoch 80/100\n",
            "32/32 [==============================] - 0s 2ms/step - loss: 0.3240 - accuracy: 0.8801 - val_loss: 0.2669 - val_accuracy: 0.8950\n",
            "Epoch 81/100\n",
            "32/32 [==============================] - 0s 2ms/step - loss: 0.3182 - accuracy: 0.8799 - val_loss: 0.2671 - val_accuracy: 0.8950\n",
            "Epoch 82/100\n",
            "32/32 [==============================] - 0s 2ms/step - loss: 0.3371 - accuracy: 0.8648 - val_loss: 0.2650 - val_accuracy: 0.8950\n",
            "Epoch 83/100\n",
            "32/32 [==============================] - 0s 2ms/step - loss: 0.3084 - accuracy: 0.8807 - val_loss: 0.2670 - val_accuracy: 0.8813\n",
            "Epoch 84/100\n",
            "32/32 [==============================] - 0s 2ms/step - loss: 0.3049 - accuracy: 0.8831 - val_loss: 0.2687 - val_accuracy: 0.8904\n",
            "Epoch 85/100\n",
            "32/32 [==============================] - 0s 2ms/step - loss: 0.3187 - accuracy: 0.8802 - val_loss: 0.2589 - val_accuracy: 0.8950\n",
            "Epoch 86/100\n",
            "32/32 [==============================] - 0s 2ms/step - loss: 0.3278 - accuracy: 0.8720 - val_loss: 0.2611 - val_accuracy: 0.8904\n",
            "Epoch 87/100\n",
            "32/32 [==============================] - 0s 2ms/step - loss: 0.3409 - accuracy: 0.8781 - val_loss: 0.2583 - val_accuracy: 0.8950\n",
            "Epoch 88/100\n",
            "32/32 [==============================] - 0s 2ms/step - loss: 0.3142 - accuracy: 0.8736 - val_loss: 0.2537 - val_accuracy: 0.8950\n",
            "Epoch 89/100\n",
            "32/32 [==============================] - 0s 2ms/step - loss: 0.3075 - accuracy: 0.8790 - val_loss: 0.2562 - val_accuracy: 0.8950\n",
            "Epoch 90/100\n",
            "32/32 [==============================] - 0s 2ms/step - loss: 0.2982 - accuracy: 0.8817 - val_loss: 0.2578 - val_accuracy: 0.8904\n",
            "Epoch 91/100\n",
            "32/32 [==============================] - 0s 2ms/step - loss: 0.3435 - accuracy: 0.8568 - val_loss: 0.2509 - val_accuracy: 0.8950\n",
            "Epoch 92/100\n",
            "32/32 [==============================] - 0s 2ms/step - loss: 0.3230 - accuracy: 0.8769 - val_loss: 0.2521 - val_accuracy: 0.8950\n",
            "Epoch 93/100\n",
            "32/32 [==============================] - 0s 2ms/step - loss: 0.3052 - accuracy: 0.8927 - val_loss: 0.2514 - val_accuracy: 0.8950\n",
            "Epoch 94/100\n",
            "32/32 [==============================] - 0s 2ms/step - loss: 0.3112 - accuracy: 0.8810 - val_loss: 0.2528 - val_accuracy: 0.8950\n",
            "Epoch 95/100\n",
            "32/32 [==============================] - 0s 2ms/step - loss: 0.3174 - accuracy: 0.8815 - val_loss: 0.2476 - val_accuracy: 0.8995\n",
            "Epoch 96/100\n",
            "32/32 [==============================] - 0s 2ms/step - loss: 0.3297 - accuracy: 0.8662 - val_loss: 0.2499 - val_accuracy: 0.8950\n",
            "Epoch 97/100\n",
            "32/32 [==============================] - 0s 2ms/step - loss: 0.3171 - accuracy: 0.8637 - val_loss: 0.2471 - val_accuracy: 0.8950\n",
            "Epoch 98/100\n",
            "32/32 [==============================] - 0s 3ms/step - loss: 0.3068 - accuracy: 0.8844 - val_loss: 0.2495 - val_accuracy: 0.8950\n",
            "Epoch 99/100\n",
            "32/32 [==============================] - 0s 2ms/step - loss: 0.3115 - accuracy: 0.8679 - val_loss: 0.2440 - val_accuracy: 0.8950\n",
            "Epoch 100/100\n",
            "32/32 [==============================] - 0s 2ms/step - loss: 0.3161 - accuracy: 0.8855 - val_loss: 0.2420 - val_accuracy: 0.9041\n"
          ],
          "name": "stdout"
        }
      ]
    },
    {
      "cell_type": "code",
      "metadata": {
        "colab": {
          "base_uri": "https://localhost:8080/"
        },
        "id": "exzPdg9vuE-D",
        "outputId": "f808dac5-d73e-4237-fcac-8f03ee991eef"
      },
      "source": [
        "model.evaluate(X_test, Y_test)[1]"
      ],
      "execution_count": 17,
      "outputs": [
        {
          "output_type": "stream",
          "text": [
            "7/7 [==============================] - 0s 2ms/step - loss: 0.2024 - accuracy: 0.9406\n"
          ],
          "name": "stdout"
        },
        {
          "output_type": "execute_result",
          "data": {
            "text/plain": [
              "0.9406392574310303"
            ]
          },
          "metadata": {
            "tags": []
          },
          "execution_count": 17
        }
      ]
    },
    {
      "cell_type": "code",
      "metadata": {
        "colab": {
          "base_uri": "https://localhost:8080/",
          "height": 573
        },
        "id": "Qnp6a1YauIrk",
        "outputId": "249912b5-695e-41ae-a80a-5ec53342431d"
      },
      "source": [
        "import matplotlib.pyplot as plt\n",
        "\n",
        "plt.plot(hist.history['loss'])\n",
        "plt.plot(hist.history['val_loss'])\n",
        "plt.title('Model loss')\n",
        "plt.ylabel('Loss')\n",
        "plt.xlabel('Epoch')\n",
        "plt.legend(['Train', 'Val'], loc='upper right')\n",
        "plt.show()\n",
        "\n",
        "plt.plot(hist.history['accuracy'])\n",
        "plt.plot(hist.history['val_accuracy'])\n",
        "plt.title('Model accuracy')\n",
        "plt.ylabel('Accuracy')\n",
        "plt.xlabel('Epoch')\n",
        "plt.legend(['Train', 'Val'], loc='lower right')\n",
        "plt.show()"
      ],
      "execution_count": 21,
      "outputs": [
        {
          "output_type": "display_data",
          "data": {
            "image/png": "[encoded data removed]",
            "text/plain": [
              "<Figure size 432x288 with 1 Axes>"
            ]
          },
          "metadata": {
            "tags": [],
            "needs_background": "light"
          }
        },
        {
          "output_type": "display_data",
          "data": {
            "image/png": "[encoded data removed]",
            "text/plain": [
              "<Figure size 432x288 with 1 Axes>"
            ]
          },
          "metadata": {
            "tags": [],
            "needs_background": "light"
          }
        }
      ]
    },
    {
      "cell_type": "code",
      "metadata": {
        "colab": {
          "base_uri": "https://localhost:8080/"
        },
        "id": "F3hooPaWufDv",
        "outputId": "3d729588-f1ee-4d44-98c8-f70ed9aa8003"
      },
      "source": [
        "#model 2 - introducing regularization\n",
        "\n",
        "model_2 = Sequential([\n",
        "    Dense(1000, activation='relu', input_shape=(10,)),\n",
        "    Dense(1000, activation='relu'),\n",
        "    Dense(1000, activation='relu'),\n",
        "    Dense(1000, activation='relu'),\n",
        "    Dense(1, activation='sigmoid'),\n",
        "])\n",
        "\n",
        "model_2.compile(optimizer='adam',\n",
        "              loss='binary_crossentropy',\n",
        "              metrics=['accuracy'])\n",
        "\n",
        "hist_2 = model_2.fit(X_train, Y_train,\n",
        "          batch_size=32, epochs=100,\n",
        "          validation_data=(X_val, Y_val))"
      ],
      "execution_count": 22,
      "outputs": [
        {
          "output_type": "stream",
          "text": [
            "Epoch 1/100\n",
            "32/32 [==============================] - 2s 42ms/step - loss: 0.5978 - accuracy: 0.6867 - val_loss: 0.3355 - val_accuracy: 0.8858\n",
            "Epoch 2/100\n",
            "32/32 [==============================] - 1s 32ms/step - loss: 0.3653 - accuracy: 0.8543 - val_loss: 0.2937 - val_accuracy: 0.8950\n",
            "Epoch 3/100\n",
            "32/32 [==============================] - 1s 32ms/step - loss: 0.3156 - accuracy: 0.8677 - val_loss: 0.2654 - val_accuracy: 0.8858\n",
            "Epoch 4/100\n",
            "32/32 [==============================] - 1s 32ms/step - loss: 0.3323 - accuracy: 0.8557 - val_loss: 0.4330 - val_accuracy: 0.8265\n",
            "Epoch 5/100\n",
            "32/32 [==============================] - 1s 32ms/step - loss: 0.3618 - accuracy: 0.8264 - val_loss: 0.2690 - val_accuracy: 0.9178\n",
            "Epoch 6/100\n",
            "32/32 [==============================] - 1s 32ms/step - loss: 0.3054 - accuracy: 0.8886 - val_loss: 0.2420 - val_accuracy: 0.9178\n",
            "Epoch 7/100\n",
            "32/32 [==============================] - 1s 32ms/step - loss: 0.2631 - accuracy: 0.8820 - val_loss: 0.2343 - val_accuracy: 0.9087\n",
            "Epoch 8/100\n",
            "32/32 [==============================] - 1s 33ms/step - loss: 0.2658 - accuracy: 0.8966 - val_loss: 0.2094 - val_accuracy: 0.9269\n",
            "Epoch 9/100\n",
            "32/32 [==============================] - 1s 33ms/step - loss: 0.2457 - accuracy: 0.8924 - val_loss: 0.2090 - val_accuracy: 0.9087\n",
            "Epoch 10/100\n",
            "32/32 [==============================] - 1s 33ms/step - loss: 0.2653 - accuracy: 0.8861 - val_loss: 0.2212 - val_accuracy: 0.9087\n",
            "Epoch 11/100\n",
            "32/32 [==============================] - 1s 32ms/step - loss: 0.2540 - accuracy: 0.8943 - val_loss: 0.2576 - val_accuracy: 0.9087\n",
            "Epoch 12/100\n",
            "32/32 [==============================] - 1s 33ms/step - loss: 0.2390 - accuracy: 0.9020 - val_loss: 0.2087 - val_accuracy: 0.9224\n",
            "Epoch 13/100\n",
            "32/32 [==============================] - 1s 33ms/step - loss: 0.2566 - accuracy: 0.8930 - val_loss: 0.1881 - val_accuracy: 0.9178\n",
            "Epoch 14/100\n",
            "32/32 [==============================] - 1s 34ms/step - loss: 0.2378 - accuracy: 0.8913 - val_loss: 0.1823 - val_accuracy: 0.9315\n",
            "Epoch 15/100\n",
            "32/32 [==============================] - 1s 33ms/step - loss: 0.2577 - accuracy: 0.8931 - val_loss: 0.2458 - val_accuracy: 0.9132\n",
            "Epoch 16/100\n",
            "32/32 [==============================] - 1s 32ms/step - loss: 0.2478 - accuracy: 0.8969 - val_loss: 0.2194 - val_accuracy: 0.9132\n",
            "Epoch 17/100\n",
            "32/32 [==============================] - 1s 32ms/step - loss: 0.2385 - accuracy: 0.9008 - val_loss: 0.3341 - val_accuracy: 0.9041\n",
            "Epoch 18/100\n",
            "32/32 [==============================] - 1s 33ms/step - loss: 0.2554 - accuracy: 0.8988 - val_loss: 0.1907 - val_accuracy: 0.9178\n",
            "Epoch 19/100\n",
            "32/32 [==============================] - 1s 34ms/step - loss: 0.2584 - accuracy: 0.8735 - val_loss: 0.1961 - val_accuracy: 0.9178\n",
            "Epoch 20/100\n",
            "32/32 [==============================] - 1s 33ms/step - loss: 0.2261 - accuracy: 0.8970 - val_loss: 0.1825 - val_accuracy: 0.9315\n",
            "Epoch 21/100\n",
            "32/32 [==============================] - 1s 33ms/step - loss: 0.2042 - accuracy: 0.9239 - val_loss: 0.2245 - val_accuracy: 0.8721\n",
            "Epoch 22/100\n",
            "32/32 [==============================] - 1s 33ms/step - loss: 0.2222 - accuracy: 0.8928 - val_loss: 0.2135 - val_accuracy: 0.9132\n",
            "Epoch 23/100\n",
            "32/32 [==============================] - 1s 33ms/step - loss: 0.2246 - accuracy: 0.9042 - val_loss: 0.2476 - val_accuracy: 0.8950\n",
            "Epoch 24/100\n",
            "32/32 [==============================] - 1s 32ms/step - loss: 0.2217 - accuracy: 0.9091 - val_loss: 0.1941 - val_accuracy: 0.9315\n",
            "Epoch 25/100\n",
            "32/32 [==============================] - 1s 33ms/step - loss: 0.2245 - accuracy: 0.9050 - val_loss: 0.1891 - val_accuracy: 0.9178\n",
            "Epoch 26/100\n",
            "32/32 [==============================] - 1s 33ms/step - loss: 0.2060 - accuracy: 0.9225 - val_loss: 0.2336 - val_accuracy: 0.8813\n",
            "Epoch 27/100\n",
            "32/32 [==============================] - 1s 33ms/step - loss: 0.2360 - accuracy: 0.8994 - val_loss: 0.2093 - val_accuracy: 0.8950\n",
            "Epoch 28/100\n",
            "32/32 [==============================] - 1s 34ms/step - loss: 0.2165 - accuracy: 0.9123 - val_loss: 0.2117 - val_accuracy: 0.9315\n",
            "Epoch 29/100\n",
            "32/32 [==============================] - 1s 33ms/step - loss: 0.2094 - accuracy: 0.9143 - val_loss: 0.2269 - val_accuracy: 0.9132\n",
            "Epoch 30/100\n",
            "32/32 [==============================] - 1s 32ms/step - loss: 0.1970 - accuracy: 0.9216 - val_loss: 0.2048 - val_accuracy: 0.9361\n",
            "Epoch 31/100\n",
            "32/32 [==============================] - 1s 33ms/step - loss: 0.2232 - accuracy: 0.9111 - val_loss: 0.2176 - val_accuracy: 0.9178\n",
            "Epoch 32/100\n",
            "32/32 [==============================] - 1s 33ms/step - loss: 0.1987 - accuracy: 0.9186 - val_loss: 0.2380 - val_accuracy: 0.9132\n",
            "Epoch 33/100\n",
            "32/32 [==============================] - 1s 33ms/step - loss: 0.2254 - accuracy: 0.8993 - val_loss: 0.2422 - val_accuracy: 0.9041\n",
            "Epoch 34/100\n",
            "32/32 [==============================] - 1s 33ms/step - loss: 0.2151 - accuracy: 0.9059 - val_loss: 0.2113 - val_accuracy: 0.9224\n",
            "Epoch 35/100\n",
            "32/32 [==============================] - 1s 33ms/step - loss: 0.1919 - accuracy: 0.9262 - val_loss: 0.2073 - val_accuracy: 0.9269\n",
            "Epoch 36/100\n",
            "32/32 [==============================] - 1s 33ms/step - loss: 0.1949 - accuracy: 0.9170 - val_loss: 0.2010 - val_accuracy: 0.9224\n",
            "Epoch 37/100\n",
            "32/32 [==============================] - 1s 32ms/step - loss: 0.2116 - accuracy: 0.8987 - val_loss: 0.2136 - val_accuracy: 0.9178\n",
            "Epoch 38/100\n",
            "32/32 [==============================] - 1s 33ms/step - loss: 0.1796 - accuracy: 0.9137 - val_loss: 0.2436 - val_accuracy: 0.9132\n",
            "Epoch 39/100\n",
            "32/32 [==============================] - 1s 33ms/step - loss: 0.1485 - accuracy: 0.9331 - val_loss: 0.2822 - val_accuracy: 0.9132\n",
            "Epoch 40/100\n",
            "32/32 [==============================] - 1s 33ms/step - loss: 0.1844 - accuracy: 0.9297 - val_loss: 0.2216 - val_accuracy: 0.9269\n",
            "Epoch 41/100\n",
            "32/32 [==============================] - 1s 33ms/step - loss: 0.1915 - accuracy: 0.9177 - val_loss: 0.2534 - val_accuracy: 0.9178\n",
            "Epoch 42/100\n",
            "32/32 [==============================] - 1s 33ms/step - loss: 0.1704 - accuracy: 0.9326 - val_loss: 0.2299 - val_accuracy: 0.9178\n",
            "Epoch 43/100\n",
            "32/32 [==============================] - 1s 33ms/step - loss: 0.1994 - accuracy: 0.9166 - val_loss: 0.1963 - val_accuracy: 0.9178\n",
            "Epoch 44/100\n",
            "32/32 [==============================] - 1s 34ms/step - loss: 0.1642 - accuracy: 0.9346 - val_loss: 0.3351 - val_accuracy: 0.8813\n",
            "Epoch 45/100\n",
            "32/32 [==============================] - 1s 33ms/step - loss: 0.2253 - accuracy: 0.8965 - val_loss: 0.2480 - val_accuracy: 0.9041\n",
            "Epoch 46/100\n",
            "32/32 [==============================] - 1s 33ms/step - loss: 0.1714 - accuracy: 0.9236 - val_loss: 0.2937 - val_accuracy: 0.9132\n",
            "Epoch 47/100\n",
            "32/32 [==============================] - 1s 32ms/step - loss: 0.1854 - accuracy: 0.9141 - val_loss: 0.3115 - val_accuracy: 0.9041\n",
            "Epoch 48/100\n",
            "32/32 [==============================] - 1s 33ms/step - loss: 0.1727 - accuracy: 0.9188 - val_loss: 0.2790 - val_accuracy: 0.9178\n",
            "Epoch 49/100\n",
            "32/32 [==============================] - 1s 33ms/step - loss: 0.1904 - accuracy: 0.9142 - val_loss: 0.4157 - val_accuracy: 0.8950\n",
            "Epoch 50/100\n",
            "32/32 [==============================] - 1s 33ms/step - loss: 0.1707 - accuracy: 0.9263 - val_loss: 0.2458 - val_accuracy: 0.9132\n",
            "Epoch 51/100\n",
            "32/32 [==============================] - 1s 33ms/step - loss: 0.1512 - accuracy: 0.9383 - val_loss: 0.2675 - val_accuracy: 0.9178\n",
            "Epoch 52/100\n",
            "32/32 [==============================] - 1s 33ms/step - loss: 0.1846 - accuracy: 0.9153 - val_loss: 0.2246 - val_accuracy: 0.9087\n",
            "Epoch 53/100\n",
            "32/32 [==============================] - 1s 33ms/step - loss: 0.1629 - accuracy: 0.9295 - val_loss: 0.2949 - val_accuracy: 0.9178\n",
            "Epoch 54/100\n",
            "32/32 [==============================] - 1s 34ms/step - loss: 0.1434 - accuracy: 0.9439 - val_loss: 0.2727 - val_accuracy: 0.9178\n",
            "Epoch 55/100\n",
            "32/32 [==============================] - 1s 34ms/step - loss: 0.1315 - accuracy: 0.9436 - val_loss: 0.2289 - val_accuracy: 0.9132\n",
            "Epoch 56/100\n",
            "32/32 [==============================] - 1s 33ms/step - loss: 0.2013 - accuracy: 0.9178 - val_loss: 0.2122 - val_accuracy: 0.9224\n",
            "Epoch 57/100\n",
            "32/32 [==============================] - 1s 33ms/step - loss: 0.1508 - accuracy: 0.9319 - val_loss: 0.4501 - val_accuracy: 0.9178\n",
            "Epoch 58/100\n",
            "32/32 [==============================] - 1s 33ms/step - loss: 0.2200 - accuracy: 0.9122 - val_loss: 0.2654 - val_accuracy: 0.9132\n",
            "Epoch 59/100\n",
            "32/32 [==============================] - 1s 33ms/step - loss: 0.1642 - accuracy: 0.9267 - val_loss: 0.2223 - val_accuracy: 0.9087\n",
            "Epoch 60/100\n",
            "32/32 [==============================] - 1s 34ms/step - loss: 0.1602 - accuracy: 0.9392 - val_loss: 0.2612 - val_accuracy: 0.8995\n",
            "Epoch 61/100\n",
            "32/32 [==============================] - 1s 34ms/step - loss: 0.1247 - accuracy: 0.9500 - val_loss: 0.4631 - val_accuracy: 0.8950\n",
            "Epoch 62/100\n",
            "32/32 [==============================] - 1s 33ms/step - loss: 0.1530 - accuracy: 0.9424 - val_loss: 0.2876 - val_accuracy: 0.9132\n",
            "Epoch 63/100\n",
            "32/32 [==============================] - 1s 33ms/step - loss: 0.1353 - accuracy: 0.9451 - val_loss: 0.2891 - val_accuracy: 0.9224\n",
            "Epoch 64/100\n",
            "32/32 [==============================] - 1s 33ms/step - loss: 0.1667 - accuracy: 0.9386 - val_loss: 0.3760 - val_accuracy: 0.8995\n",
            "Epoch 65/100\n",
            "32/32 [==============================] - 1s 33ms/step - loss: 0.1417 - accuracy: 0.9364 - val_loss: 0.2796 - val_accuracy: 0.9178\n",
            "Epoch 66/100\n",
            "32/32 [==============================] - 1s 33ms/step - loss: 0.1531 - accuracy: 0.9431 - val_loss: 0.4580 - val_accuracy: 0.9041\n",
            "Epoch 67/100\n",
            "32/32 [==============================] - 1s 33ms/step - loss: 0.1411 - accuracy: 0.9468 - val_loss: 0.2939 - val_accuracy: 0.9132\n",
            "Epoch 68/100\n",
            "32/32 [==============================] - 1s 33ms/step - loss: 0.1534 - accuracy: 0.9425 - val_loss: 0.2501 - val_accuracy: 0.9178\n",
            "Epoch 69/100\n",
            "32/32 [==============================] - 1s 34ms/step - loss: 0.1638 - accuracy: 0.9310 - val_loss: 0.3200 - val_accuracy: 0.8858\n",
            "Epoch 70/100\n",
            "32/32 [==============================] - 1s 33ms/step - loss: 0.1889 - accuracy: 0.9206 - val_loss: 0.3052 - val_accuracy: 0.9087\n",
            "Epoch 71/100\n",
            "32/32 [==============================] - 1s 33ms/step - loss: 0.1566 - accuracy: 0.9392 - val_loss: 0.2410 - val_accuracy: 0.9087\n",
            "Epoch 72/100\n",
            "32/32 [==============================] - 1s 33ms/step - loss: 0.1838 - accuracy: 0.9301 - val_loss: 0.2423 - val_accuracy: 0.9178\n",
            "Epoch 73/100\n",
            "32/32 [==============================] - 1s 33ms/step - loss: 0.1575 - accuracy: 0.9428 - val_loss: 0.3431 - val_accuracy: 0.9132\n",
            "Epoch 74/100\n",
            "32/32 [==============================] - 1s 33ms/step - loss: 0.1501 - accuracy: 0.9446 - val_loss: 0.3157 - val_accuracy: 0.8904\n",
            "Epoch 75/100\n",
            "32/32 [==============================] - 1s 35ms/step - loss: 0.1533 - accuracy: 0.9403 - val_loss: 0.2858 - val_accuracy: 0.9041\n",
            "Epoch 76/100\n",
            "32/32 [==============================] - 1s 35ms/step - loss: 0.1353 - accuracy: 0.9445 - val_loss: 0.3518 - val_accuracy: 0.9132\n",
            "Epoch 77/100\n",
            "32/32 [==============================] - 1s 34ms/step - loss: 0.1364 - accuracy: 0.9378 - val_loss: 0.3216 - val_accuracy: 0.9132\n",
            "Epoch 78/100\n",
            "32/32 [==============================] - 1s 33ms/step - loss: 0.1454 - accuracy: 0.9336 - val_loss: 0.3631 - val_accuracy: 0.8950\n",
            "Epoch 79/100\n",
            "32/32 [==============================] - 1s 33ms/step - loss: 0.1210 - accuracy: 0.9569 - val_loss: 0.3097 - val_accuracy: 0.9041\n",
            "Epoch 80/100\n",
            "32/32 [==============================] - 1s 33ms/step - loss: 0.1221 - accuracy: 0.9505 - val_loss: 0.6200 - val_accuracy: 0.8858\n",
            "Epoch 81/100\n",
            "32/32 [==============================] - 1s 34ms/step - loss: 0.1676 - accuracy: 0.9248 - val_loss: 0.3104 - val_accuracy: 0.9178\n",
            "Epoch 82/100\n",
            "32/32 [==============================] - 1s 34ms/step - loss: 0.1438 - accuracy: 0.9365 - val_loss: 0.5222 - val_accuracy: 0.8950\n",
            "Epoch 83/100\n",
            "32/32 [==============================] - 1s 34ms/step - loss: 0.1358 - accuracy: 0.9395 - val_loss: 0.4678 - val_accuracy: 0.9041\n",
            "Epoch 84/100\n",
            "32/32 [==============================] - 1s 33ms/step - loss: 0.1261 - accuracy: 0.9502 - val_loss: 0.4381 - val_accuracy: 0.9041\n",
            "Epoch 85/100\n",
            "32/32 [==============================] - 1s 34ms/step - loss: 0.0959 - accuracy: 0.9632 - val_loss: 0.3415 - val_accuracy: 0.8995\n",
            "Epoch 86/100\n",
            "32/32 [==============================] - 1s 33ms/step - loss: 0.1150 - accuracy: 0.9531 - val_loss: 0.4302 - val_accuracy: 0.9178\n",
            "Epoch 87/100\n",
            "32/32 [==============================] - 1s 34ms/step - loss: 0.1094 - accuracy: 0.9563 - val_loss: 0.4617 - val_accuracy: 0.8904\n",
            "Epoch 88/100\n",
            "32/32 [==============================] - 1s 34ms/step - loss: 0.1326 - accuracy: 0.9490 - val_loss: 0.4082 - val_accuracy: 0.8950\n",
            "Epoch 89/100\n",
            "32/32 [==============================] - 1s 34ms/step - loss: 0.1066 - accuracy: 0.9594 - val_loss: 0.3363 - val_accuracy: 0.9087\n",
            "Epoch 90/100\n",
            "32/32 [==============================] - 1s 34ms/step - loss: 0.1541 - accuracy: 0.9338 - val_loss: 0.3893 - val_accuracy: 0.9178\n",
            "Epoch 91/100\n",
            "32/32 [==============================] - 1s 34ms/step - loss: 0.1295 - accuracy: 0.9492 - val_loss: 0.4258 - val_accuracy: 0.8950\n",
            "Epoch 92/100\n",
            "32/32 [==============================] - 1s 35ms/step - loss: 0.1403 - accuracy: 0.9416 - val_loss: 0.4417 - val_accuracy: 0.8767\n",
            "Epoch 93/100\n",
            "32/32 [==============================] - 1s 33ms/step - loss: 0.1256 - accuracy: 0.9522 - val_loss: 0.5230 - val_accuracy: 0.9132\n",
            "Epoch 94/100\n",
            "32/32 [==============================] - 1s 33ms/step - loss: 0.1789 - accuracy: 0.9494 - val_loss: 0.3149 - val_accuracy: 0.8995\n",
            "Epoch 95/100\n",
            "32/32 [==============================] - 1s 34ms/step - loss: 0.1000 - accuracy: 0.9644 - val_loss: 0.3590 - val_accuracy: 0.8995\n",
            "Epoch 96/100\n",
            "32/32 [==============================] - 1s 34ms/step - loss: 0.1525 - accuracy: 0.9263 - val_loss: 0.2703 - val_accuracy: 0.9269\n",
            "Epoch 97/100\n",
            "32/32 [==============================] - 1s 34ms/step - loss: 0.1391 - accuracy: 0.9547 - val_loss: 0.3687 - val_accuracy: 0.9041\n",
            "Epoch 98/100\n",
            "32/32 [==============================] - 1s 33ms/step - loss: 0.1129 - accuracy: 0.9546 - val_loss: 0.3732 - val_accuracy: 0.9178\n",
            "Epoch 99/100\n",
            "32/32 [==============================] - 1s 34ms/step - loss: 0.0955 - accuracy: 0.9631 - val_loss: 0.3797 - val_accuracy: 0.9224\n",
            "Epoch 100/100\n",
            "32/32 [==============================] - 1s 34ms/step - loss: 0.0921 - accuracy: 0.9627 - val_loss: 0.4189 - val_accuracy: 0.9087\n"
          ],
          "name": "stdout"
        }
      ]
    },
    {
      "cell_type": "code",
      "metadata": {
        "colab": {
          "base_uri": "https://localhost:8080/",
          "height": 573
        },
        "id": "TaSO-SlrwcO2",
        "outputId": "c9ade5a1-464b-4e56-fb2b-035002a20b4e"
      },
      "source": [
        "plt.plot(hist_2.history['loss'])\n",
        "plt.plot(hist_2.history['val_loss'])\n",
        "plt.title('Model loss')\n",
        "plt.ylabel('Loss')\n",
        "plt.xlabel('Epoch')\n",
        "plt.legend(['Train', 'Val'], loc='upper right')\n",
        "plt.show()\n",
        "\n",
        "plt.plot(hist_2.history['accuracy'])\n",
        "plt.plot(hist_2.history['val_accuracy'])\n",
        "plt.title('Model accuracy')\n",
        "plt.ylabel('Accuracy')\n",
        "plt.xlabel('Epoch')\n",
        "plt.legend(['Train', 'Val'], loc='lower right')\n",
        "plt.show()"
      ],
      "execution_count": 24,
      "outputs": [
        {
          "output_type": "display_data",
          "data": {
            "image/png": "[encoded data removed]",
            "text/plain": [
              "<Figure size 432x288 with 1 Axes>"
            ]
          },
          "metadata": {
            "tags": [],
            "needs_background": "light"
          }
        },
        {
          "output_type": "display_data",
          "data": {
            "image/png": "[encoded data removed]",
            "text/plain": [
              "<Figure size 432x288 with 1 Axes>"
            ]
          },
          "metadata": {
            "tags": [],
            "needs_background": "light"
          }
        }
      ]
    },
    {
      "cell_type": "code",
      "metadata": {
        "colab": {
          "base_uri": "https://localhost:8080/"
        },
        "id": "aRxztwAawlhZ",
        "outputId": "1b62642c-7b81-4011-8963-017e3f3736cc"
      },
      "source": [
        "#model 3 - has the model 2 dropout and regularization but reduces overfitting\n",
        "\n",
        "from keras.layers import Dropout\n",
        "from keras import regularizers\n",
        "\n",
        "model_3 = Sequential([\n",
        "    Dense(1000, activation='relu', kernel_regularizer=regularizers.l2(0.01), input_shape=(10,)),\n",
        "    Dropout(0.3),\n",
        "    Dense(1000, activation='relu', kernel_regularizer=regularizers.l2(0.01)),\n",
        "    Dropout(0.3),\n",
        "    Dense(1000, activation='relu', kernel_regularizer=regularizers.l2(0.01)),\n",
        "    Dropout(0.3),\n",
        "    Dense(1000, activation='relu', kernel_regularizer=regularizers.l2(0.01)),\n",
        "    Dropout(0.3),\n",
        "    Dense(1, activation='sigmoid', kernel_regularizer=regularizers.l2(0.01)),\n",
        "])\n",
        "\n",
        "model_3.compile(optimizer='adam',\n",
        "              loss='binary_crossentropy',\n",
        "              metrics=['accuracy'])\n",
        "\n",
        "hist_3 = model_3.fit(X_train, Y_train,\n",
        "          batch_size=32, epochs=100,\n",
        "          validation_data=(X_val, Y_val))"
      ],
      "execution_count": 25,
      "outputs": [
        {
          "output_type": "stream",
          "text": [
            "Epoch 1/100\n",
            "32/32 [==============================] - 4s 57ms/step - loss: 21.1046 - accuracy: 0.5423 - val_loss: 3.8853 - val_accuracy: 0.8858\n",
            "Epoch 2/100\n",
            "32/32 [==============================] - 1s 42ms/step - loss: 2.5039 - accuracy: 0.8274 - val_loss: 0.6323 - val_accuracy: 0.8858\n",
            "Epoch 3/100\n",
            "32/32 [==============================] - 1s 44ms/step - loss: 0.6332 - accuracy: 0.8305 - val_loss: 0.4856 - val_accuracy: 0.8904\n",
            "Epoch 4/100\n",
            "32/32 [==============================] - 1s 43ms/step - loss: 0.5390 - accuracy: 0.8440 - val_loss: 0.4433 - val_accuracy: 0.9087\n",
            "Epoch 5/100\n",
            "32/32 [==============================] - 1s 42ms/step - loss: 0.5192 - accuracy: 0.8524 - val_loss: 0.4307 - val_accuracy: 0.8995\n",
            "Epoch 6/100\n",
            "32/32 [==============================] - 1s 44ms/step - loss: 0.5135 - accuracy: 0.8464 - val_loss: 0.4481 - val_accuracy: 0.9041\n",
            "Epoch 7/100\n",
            "32/32 [==============================] - 1s 44ms/step - loss: 0.5012 - accuracy: 0.8458 - val_loss: 0.4171 - val_accuracy: 0.9041\n",
            "Epoch 8/100\n",
            "32/32 [==============================] - 1s 43ms/step - loss: 0.4932 - accuracy: 0.8712 - val_loss: 0.4080 - val_accuracy: 0.8950\n",
            "Epoch 9/100\n",
            "32/32 [==============================] - 1s 44ms/step - loss: 0.4757 - accuracy: 0.8915 - val_loss: 0.4469 - val_accuracy: 0.8904\n",
            "Epoch 10/100\n",
            "32/32 [==============================] - 1s 44ms/step - loss: 0.4878 - accuracy: 0.8835 - val_loss: 0.4265 - val_accuracy: 0.9041\n",
            "Epoch 11/100\n",
            "32/32 [==============================] - 1s 43ms/step - loss: 0.4594 - accuracy: 0.8741 - val_loss: 0.4574 - val_accuracy: 0.8904\n",
            "Epoch 12/100\n",
            "32/32 [==============================] - 1s 43ms/step - loss: 0.4991 - accuracy: 0.8644 - val_loss: 0.4167 - val_accuracy: 0.8904\n",
            "Epoch 13/100\n",
            "32/32 [==============================] - 1s 42ms/step - loss: 0.4623 - accuracy: 0.8712 - val_loss: 0.3989 - val_accuracy: 0.9041\n",
            "Epoch 14/100\n",
            "32/32 [==============================] - 1s 44ms/step - loss: 0.5150 - accuracy: 0.8587 - val_loss: 0.4400 - val_accuracy: 0.8950\n",
            "Epoch 15/100\n",
            "32/32 [==============================] - 1s 43ms/step - loss: 0.4702 - accuracy: 0.8769 - val_loss: 0.3900 - val_accuracy: 0.8995\n",
            "Epoch 16/100\n",
            "32/32 [==============================] - 1s 44ms/step - loss: 0.4724 - accuracy: 0.8676 - val_loss: 0.4422 - val_accuracy: 0.8950\n",
            "Epoch 17/100\n",
            "32/32 [==============================] - 1s 43ms/step - loss: 0.5239 - accuracy: 0.8323 - val_loss: 0.4136 - val_accuracy: 0.9132\n",
            "Epoch 18/100\n",
            "32/32 [==============================] - 1s 44ms/step - loss: 0.4674 - accuracy: 0.8732 - val_loss: 0.3906 - val_accuracy: 0.9041\n",
            "Epoch 19/100\n",
            "32/32 [==============================] - 1s 44ms/step - loss: 0.4659 - accuracy: 0.8715 - val_loss: 0.3928 - val_accuracy: 0.9132\n",
            "Epoch 20/100\n",
            "32/32 [==============================] - 1s 44ms/step - loss: 0.4387 - accuracy: 0.8858 - val_loss: 0.3969 - val_accuracy: 0.8950\n",
            "Epoch 21/100\n",
            "32/32 [==============================] - 1s 43ms/step - loss: 0.4650 - accuracy: 0.8720 - val_loss: 0.3895 - val_accuracy: 0.8995\n",
            "Epoch 22/100\n",
            "32/32 [==============================] - 1s 43ms/step - loss: 0.4637 - accuracy: 0.8720 - val_loss: 0.3925 - val_accuracy: 0.9041\n",
            "Epoch 23/100\n",
            "32/32 [==============================] - 1s 45ms/step - loss: 0.4772 - accuracy: 0.8653 - val_loss: 0.3819 - val_accuracy: 0.9041\n",
            "Epoch 24/100\n",
            "32/32 [==============================] - 1s 44ms/step - loss: 0.5285 - accuracy: 0.8405 - val_loss: 0.3855 - val_accuracy: 0.8995\n",
            "Epoch 25/100\n",
            "32/32 [==============================] - 1s 45ms/step - loss: 0.4691 - accuracy: 0.8633 - val_loss: 0.3949 - val_accuracy: 0.9041\n",
            "Epoch 26/100\n",
            "32/32 [==============================] - 1s 44ms/step - loss: 0.4670 - accuracy: 0.8683 - val_loss: 0.4362 - val_accuracy: 0.8950\n",
            "Epoch 27/100\n",
            "32/32 [==============================] - 1s 43ms/step - loss: 0.4823 - accuracy: 0.8777 - val_loss: 0.3810 - val_accuracy: 0.8995\n",
            "Epoch 28/100\n",
            "32/32 [==============================] - 1s 44ms/step - loss: 0.4592 - accuracy: 0.8894 - val_loss: 0.3990 - val_accuracy: 0.9178\n",
            "Epoch 29/100\n",
            "32/32 [==============================] - 1s 43ms/step - loss: 0.4713 - accuracy: 0.8657 - val_loss: 0.3796 - val_accuracy: 0.8950\n",
            "Epoch 30/100\n",
            "32/32 [==============================] - 1s 44ms/step - loss: 0.4594 - accuracy: 0.8831 - val_loss: 0.4046 - val_accuracy: 0.9132\n",
            "Epoch 31/100\n",
            "32/32 [==============================] - 1s 44ms/step - loss: 0.4680 - accuracy: 0.8686 - val_loss: 0.3932 - val_accuracy: 0.9087\n",
            "Epoch 32/100\n",
            "32/32 [==============================] - 1s 44ms/step - loss: 0.4434 - accuracy: 0.8805 - val_loss: 0.4094 - val_accuracy: 0.9041\n",
            "Epoch 33/100\n",
            "32/32 [==============================] - 1s 42ms/step - loss: 0.4508 - accuracy: 0.8908 - val_loss: 0.4055 - val_accuracy: 0.8858\n",
            "Epoch 34/100\n",
            "32/32 [==============================] - 1s 45ms/step - loss: 0.4919 - accuracy: 0.8567 - val_loss: 0.3867 - val_accuracy: 0.9132\n",
            "Epoch 35/100\n",
            "32/32 [==============================] - 1s 44ms/step - loss: 0.4370 - accuracy: 0.8784 - val_loss: 0.4026 - val_accuracy: 0.8904\n",
            "Epoch 36/100\n",
            "32/32 [==============================] - 1s 44ms/step - loss: 0.5012 - accuracy: 0.8517 - val_loss: 0.3773 - val_accuracy: 0.9041\n",
            "Epoch 37/100\n",
            "32/32 [==============================] - 1s 43ms/step - loss: 0.4646 - accuracy: 0.8750 - val_loss: 0.3801 - val_accuracy: 0.9041\n",
            "Epoch 38/100\n",
            "32/32 [==============================] - 1s 43ms/step - loss: 0.4519 - accuracy: 0.8706 - val_loss: 0.3850 - val_accuracy: 0.9087\n",
            "Epoch 39/100\n",
            "32/32 [==============================] - 1s 44ms/step - loss: 0.5006 - accuracy: 0.8539 - val_loss: 0.3886 - val_accuracy: 0.9041\n",
            "Epoch 40/100\n",
            "32/32 [==============================] - 1s 44ms/step - loss: 0.4585 - accuracy: 0.8663 - val_loss: 0.3904 - val_accuracy: 0.8950\n",
            "Epoch 41/100\n",
            "32/32 [==============================] - 1s 44ms/step - loss: 0.4606 - accuracy: 0.8643 - val_loss: 0.3920 - val_accuracy: 0.9087\n",
            "Epoch 42/100\n",
            "32/32 [==============================] - 1s 45ms/step - loss: 0.4496 - accuracy: 0.8759 - val_loss: 0.4165 - val_accuracy: 0.8904\n",
            "Epoch 43/100\n",
            "32/32 [==============================] - 1s 45ms/step - loss: 0.4760 - accuracy: 0.8698 - val_loss: 0.3777 - val_accuracy: 0.8995\n",
            "Epoch 44/100\n",
            "32/32 [==============================] - 1s 45ms/step - loss: 0.4603 - accuracy: 0.8691 - val_loss: 0.3889 - val_accuracy: 0.9132\n",
            "Epoch 45/100\n",
            "32/32 [==============================] - 1s 43ms/step - loss: 0.4593 - accuracy: 0.8697 - val_loss: 0.4278 - val_accuracy: 0.8950\n",
            "Epoch 46/100\n",
            "32/32 [==============================] - 1s 44ms/step - loss: 0.5198 - accuracy: 0.8336 - val_loss: 0.3889 - val_accuracy: 0.9041\n",
            "Epoch 47/100\n",
            "32/32 [==============================] - 1s 44ms/step - loss: 0.4480 - accuracy: 0.8791 - val_loss: 0.3782 - val_accuracy: 0.9041\n",
            "Epoch 48/100\n",
            "32/32 [==============================] - 1s 45ms/step - loss: 0.4432 - accuracy: 0.8774 - val_loss: 0.3943 - val_accuracy: 0.9178\n",
            "Epoch 49/100\n",
            "32/32 [==============================] - 1s 45ms/step - loss: 0.4549 - accuracy: 0.8687 - val_loss: 0.3716 - val_accuracy: 0.9087\n",
            "Epoch 50/100\n",
            "32/32 [==============================] - 1s 45ms/step - loss: 0.4584 - accuracy: 0.8722 - val_loss: 0.3785 - val_accuracy: 0.9041\n",
            "Epoch 51/100\n",
            "32/32 [==============================] - 1s 45ms/step - loss: 0.4627 - accuracy: 0.8741 - val_loss: 0.3756 - val_accuracy: 0.8904\n",
            "Epoch 52/100\n",
            "32/32 [==============================] - 1s 45ms/step - loss: 0.4810 - accuracy: 0.8614 - val_loss: 0.3994 - val_accuracy: 0.8950\n",
            "Epoch 53/100\n",
            "32/32 [==============================] - 1s 45ms/step - loss: 0.4732 - accuracy: 0.8705 - val_loss: 0.4201 - val_accuracy: 0.8995\n",
            "Epoch 54/100\n",
            "32/32 [==============================] - 1s 45ms/step - loss: 0.4514 - accuracy: 0.8861 - val_loss: 0.3759 - val_accuracy: 0.8950\n",
            "Epoch 55/100\n",
            "32/32 [==============================] - 1s 45ms/step - loss: 0.4600 - accuracy: 0.8728 - val_loss: 0.3831 - val_accuracy: 0.9041\n",
            "Epoch 56/100\n",
            "32/32 [==============================] - 1s 46ms/step - loss: 0.4882 - accuracy: 0.8548 - val_loss: 0.4208 - val_accuracy: 0.8904\n",
            "Epoch 57/100\n",
            "32/32 [==============================] - 1s 45ms/step - loss: 0.4958 - accuracy: 0.8650 - val_loss: 0.3744 - val_accuracy: 0.8950\n",
            "Epoch 58/100\n",
            "32/32 [==============================] - 1s 45ms/step - loss: 0.4628 - accuracy: 0.8663 - val_loss: 0.3698 - val_accuracy: 0.9041\n",
            "Epoch 59/100\n",
            "32/32 [==============================] - 1s 44ms/step - loss: 0.4538 - accuracy: 0.8830 - val_loss: 0.4639 - val_accuracy: 0.8630\n",
            "Epoch 60/100\n",
            "32/32 [==============================] - 1s 44ms/step - loss: 0.4743 - accuracy: 0.8764 - val_loss: 0.3790 - val_accuracy: 0.8995\n",
            "Epoch 61/100\n",
            "32/32 [==============================] - 1s 45ms/step - loss: 0.4657 - accuracy: 0.8680 - val_loss: 0.3767 - val_accuracy: 0.9132\n",
            "Epoch 62/100\n",
            "32/32 [==============================] - 1s 46ms/step - loss: 0.4357 - accuracy: 0.8929 - val_loss: 0.3742 - val_accuracy: 0.8995\n",
            "Epoch 63/100\n",
            "32/32 [==============================] - 1s 45ms/step - loss: 0.4928 - accuracy: 0.8377 - val_loss: 0.3836 - val_accuracy: 0.9041\n",
            "Epoch 64/100\n",
            "32/32 [==============================] - 1s 44ms/step - loss: 0.4609 - accuracy: 0.8721 - val_loss: 0.4157 - val_accuracy: 0.8995\n",
            "Epoch 65/100\n",
            "32/32 [==============================] - 1s 45ms/step - loss: 0.4693 - accuracy: 0.8691 - val_loss: 0.4328 - val_accuracy: 0.8904\n",
            "Epoch 66/100\n",
            "32/32 [==============================] - 1s 44ms/step - loss: 0.4536 - accuracy: 0.8784 - val_loss: 0.3835 - val_accuracy: 0.8904\n",
            "Epoch 67/100\n",
            "32/32 [==============================] - 1s 45ms/step - loss: 0.4522 - accuracy: 0.8742 - val_loss: 0.3914 - val_accuracy: 0.9132\n",
            "Epoch 68/100\n",
            "32/32 [==============================] - 1s 46ms/step - loss: 0.4480 - accuracy: 0.8771 - val_loss: 0.3822 - val_accuracy: 0.9041\n",
            "Epoch 69/100\n",
            "32/32 [==============================] - 1s 47ms/step - loss: 0.4305 - accuracy: 0.8932 - val_loss: 0.3722 - val_accuracy: 0.8995\n",
            "Epoch 70/100\n",
            "32/32 [==============================] - 1s 45ms/step - loss: 0.4510 - accuracy: 0.8727 - val_loss: 0.4019 - val_accuracy: 0.9132\n",
            "Epoch 71/100\n",
            "32/32 [==============================] - 1s 45ms/step - loss: 0.4559 - accuracy: 0.8656 - val_loss: 0.3786 - val_accuracy: 0.8995\n",
            "Epoch 72/100\n",
            "32/32 [==============================] - 1s 45ms/step - loss: 0.4644 - accuracy: 0.8712 - val_loss: 0.4285 - val_accuracy: 0.8904\n",
            "Epoch 73/100\n",
            "32/32 [==============================] - 1s 46ms/step - loss: 0.4597 - accuracy: 0.8586 - val_loss: 0.3798 - val_accuracy: 0.9087\n",
            "Epoch 74/100\n",
            "32/32 [==============================] - 1s 45ms/step - loss: 0.4460 - accuracy: 0.8751 - val_loss: 0.3804 - val_accuracy: 0.9041\n",
            "Epoch 75/100\n",
            "32/32 [==============================] - 1s 45ms/step - loss: 0.4577 - accuracy: 0.8745 - val_loss: 0.3982 - val_accuracy: 0.9132\n",
            "Epoch 76/100\n",
            "32/32 [==============================] - 1s 46ms/step - loss: 0.4770 - accuracy: 0.8727 - val_loss: 0.3845 - val_accuracy: 0.9087\n",
            "Epoch 77/100\n",
            "32/32 [==============================] - 1s 46ms/step - loss: 0.4527 - accuracy: 0.8773 - val_loss: 0.4144 - val_accuracy: 0.8904\n",
            "Epoch 78/100\n",
            "32/32 [==============================] - 1s 46ms/step - loss: 0.4682 - accuracy: 0.8731 - val_loss: 0.3939 - val_accuracy: 0.9041\n",
            "Epoch 79/100\n",
            "32/32 [==============================] - 1s 45ms/step - loss: 0.4386 - accuracy: 0.8765 - val_loss: 0.3765 - val_accuracy: 0.8950\n",
            "Epoch 80/100\n",
            "32/32 [==============================] - 1s 46ms/step - loss: 0.4711 - accuracy: 0.8540 - val_loss: 0.3820 - val_accuracy: 0.8995\n",
            "Epoch 81/100\n",
            "32/32 [==============================] - 1s 46ms/step - loss: 0.4514 - accuracy: 0.8741 - val_loss: 0.4126 - val_accuracy: 0.8995\n",
            "Epoch 82/100\n",
            "32/32 [==============================] - 1s 46ms/step - loss: 0.4738 - accuracy: 0.8581 - val_loss: 0.3756 - val_accuracy: 0.9041\n",
            "Epoch 83/100\n",
            "32/32 [==============================] - 2s 47ms/step - loss: 0.4597 - accuracy: 0.8662 - val_loss: 0.3900 - val_accuracy: 0.8995\n",
            "Epoch 84/100\n",
            "32/32 [==============================] - 2s 47ms/step - loss: 0.4724 - accuracy: 0.8603 - val_loss: 0.3725 - val_accuracy: 0.8995\n",
            "Epoch 85/100\n",
            "32/32 [==============================] - 1s 46ms/step - loss: 0.4860 - accuracy: 0.8416 - val_loss: 0.3688 - val_accuracy: 0.8950\n",
            "Epoch 86/100\n",
            "32/32 [==============================] - 1s 46ms/step - loss: 0.4546 - accuracy: 0.8686 - val_loss: 0.3774 - val_accuracy: 0.9041\n",
            "Epoch 87/100\n",
            "32/32 [==============================] - 1s 47ms/step - loss: 0.4512 - accuracy: 0.8780 - val_loss: 0.3773 - val_accuracy: 0.8995\n",
            "Epoch 88/100\n",
            "32/32 [==============================] - 1s 45ms/step - loss: 0.4710 - accuracy: 0.8634 - val_loss: 0.3968 - val_accuracy: 0.8858\n",
            "Epoch 89/100\n",
            "32/32 [==============================] - 1s 45ms/step - loss: 0.5147 - accuracy: 0.8436 - val_loss: 0.3915 - val_accuracy: 0.9132\n",
            "Epoch 90/100\n",
            "32/32 [==============================] - 2s 47ms/step - loss: 0.4693 - accuracy: 0.8599 - val_loss: 0.3757 - val_accuracy: 0.8995\n",
            "Epoch 91/100\n",
            "32/32 [==============================] - 1s 46ms/step - loss: 0.4714 - accuracy: 0.8570 - val_loss: 0.4137 - val_accuracy: 0.8995\n",
            "Epoch 92/100\n",
            "32/32 [==============================] - 1s 46ms/step - loss: 0.5017 - accuracy: 0.8461 - val_loss: 0.3944 - val_accuracy: 0.9132\n",
            "Epoch 93/100\n",
            "32/32 [==============================] - 1s 46ms/step - loss: 0.4499 - accuracy: 0.8785 - val_loss: 0.3878 - val_accuracy: 0.9132\n",
            "Epoch 94/100\n",
            "32/32 [==============================] - 1s 45ms/step - loss: 0.4631 - accuracy: 0.8732 - val_loss: 0.3926 - val_accuracy: 0.9087\n",
            "Epoch 95/100\n",
            "32/32 [==============================] - 1s 46ms/step - loss: 0.4450 - accuracy: 0.8778 - val_loss: 0.3698 - val_accuracy: 0.8950\n",
            "Epoch 96/100\n",
            "32/32 [==============================] - 1s 46ms/step - loss: 0.4580 - accuracy: 0.8775 - val_loss: 0.3906 - val_accuracy: 0.9087\n",
            "Epoch 97/100\n",
            "32/32 [==============================] - 1s 46ms/step - loss: 0.4457 - accuracy: 0.8726 - val_loss: 0.3809 - val_accuracy: 0.9041\n",
            "Epoch 98/100\n",
            "32/32 [==============================] - 1s 45ms/step - loss: 0.4434 - accuracy: 0.8641 - val_loss: 0.4097 - val_accuracy: 0.9087\n",
            "Epoch 99/100\n",
            "32/32 [==============================] - 1s 45ms/step - loss: 0.4733 - accuracy: 0.8644 - val_loss: 0.3739 - val_accuracy: 0.9087\n",
            "Epoch 100/100\n",
            "32/32 [==============================] - 1s 45ms/step - loss: 0.4724 - accuracy: 0.8646 - val_loss: 0.4053 - val_accuracy: 0.8995\n"
          ],
          "name": "stdout"
        }
      ]
    },
    {
      "cell_type": "code",
      "metadata": {
        "colab": {
          "base_uri": "https://localhost:8080/",
          "height": 573
        },
        "id": "oVRgfkifw51G",
        "outputId": "c5fc6850-a814-451e-dd31-bc325e813d8c"
      },
      "source": [
        "plt.plot(hist_3.history['loss'])\n",
        "plt.plot(hist_3.history['val_loss'])\n",
        "plt.title('Model loss')\n",
        "plt.ylabel('Loss')\n",
        "plt.xlabel('Epoch')\n",
        "plt.legend(['Train', 'Val'], loc='upper right')\n",
        "plt.ylim(top=1.2, bottom=0)\n",
        "plt.show()\n",
        "\n",
        "plt.plot(hist_3.history['accuracy'])\n",
        "plt.plot(hist_3.history['val_accuracy'])\n",
        "plt.title('Model accuracy')\n",
        "plt.ylabel('Accuracy')\n",
        "plt.xlabel('Epoch')\n",
        "plt.legend(['Train', 'Val'], loc='lower right')\n",
        "plt.show()"
      ],
      "execution_count": 26,
      "outputs": [
        {
          "output_type": "display_data",
          "data": {
            "image/png": "[encoded data removed]",
            "text/plain": [
              "<Figure size 432x288 with 1 Axes>"
            ]
          },
          "metadata": {
            "tags": [],
            "needs_background": "light"
          }
        },
        {
          "output_type": "display_data",
          "data": {
            "image/png": "[encoded data removed]",
            "text/plain": [
              "<Figure size 432x288 with 1 Axes>"
            ]
          },
          "metadata": {
            "tags": [],
            "needs_background": "light"
          }
        }
      ]
    }
  ]
}