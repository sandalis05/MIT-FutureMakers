{
  "nbformat": 4,
  "nbformat_minor": 0,
  "metadata": {
    "colab": {
      "name": "Visualizing Loss and Accuracy.ipynb",
      "provenance": [],
      "authorship_tag": "ABX9TyMdIzNIIj8UQCUD4AURHKnf",
      "include_colab_link": true
    },
    "kernelspec": {
      "name": "python3",
      "display_name": "Python 3"
    },
    "language_info": {
      "name": "python"
    }
  },
  "cells": [
    {
      "cell_type": "markdown",
      "metadata": {
        "id": "view-in-github",
        "colab_type": "text"
      },
      "source": [
        "<a href=\"https://colab.research.google.com/github/sandalis05/MIT-FutureMakers/blob/main/Overfitting%20Reduction/Visualizing_Loss_and_Accuracy.ipynb\" target=\"_parent\"><img src=\"https://colab.research.google.com/assets/colab-badge.svg\" alt=\"Open In Colab\"/></a>"
      ]
    },
    {
      "cell_type": "code",
      "metadata": {
        "colab": {
          "resources": {
            "http://localhost:8080/nbextensions/google.colab/files.js": {
              "data": "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",
              "ok": true,
              "headers": [
                [
                  "content-type",
                  "application/javascript"
                ]
              ],
              "status": 200,
              "status_text": ""
            }
          },
          "base_uri": "https://localhost:8080/",
          "height": 72
        },
        "id": "J_1lI5PLpToY",
        "outputId": "076edc7c-8951-4435-cda8-ef9cefd73bb9"
      },
      "source": [
        "from google.colab import files\n",
        "uploaded = files.upload()"
      ],
      "execution_count": 2,
      "outputs": [
        {
          "output_type": "display_data",
          "data": {
            "text/html": [
              "\n",
              "     <input type=\"file\" id=\"files-2747146c-595f-4959-937f-81d01f5db4dd\" name=\"files[]\" multiple disabled\n",
              "        style=\"border:none\" />\n",
              "     <output id=\"result-2747146c-595f-4959-937f-81d01f5db4dd\">\n",
              "      Upload widget is only available when the cell has been executed in the\n",
              "      current browser session. Please rerun this cell to enable.\n",
              "      </output>\n",
              "      <script src=\"/nbextensions/google.colab/files.js\"></script> "
            ],
            "text/plain": [
              "<IPython.core.display.HTML object>"
            ]
          },
          "metadata": {
            "tags": []
          }
        },
        {
          "output_type": "stream",
          "text": [
            "Saving housepricedata.csv to housepricedata.csv\n"
          ],
          "name": "stdout"
        }
      ]
    },
    {
      "cell_type": "code",
      "metadata": {
        "colab": {
          "base_uri": "https://localhost:8080/"
        },
        "id": "8OFGB0kKrWI7",
        "outputId": "21587a3e-e986-47ee-ed78-ee5d4e386e0b"
      },
      "source": [
        "from google.colab import drive\n",
        "drive.mount('/content/drive')"
      ],
      "execution_count": 3,
      "outputs": [
        {
          "output_type": "stream",
          "text": [
            "Mounted at /content/drive\n"
          ],
          "name": "stdout"
        }
      ]
    },
    {
      "cell_type": "code",
      "metadata": {
        "colab": {
          "base_uri": "https://localhost:8080/",
          "height": 439
        },
        "id": "ZyF9oBKVry0K",
        "outputId": "31e3fbda-ade1-48f0-aac8-c09ebebe3d7f"
      },
      "source": [
        "import pandas as pd\n",
        "\n",
        "df = pd.read_csv('housepricedata.csv')\n",
        "df\n"
      ],
      "execution_count": 4,
      "outputs": [
        {
          "output_type": "execute_result",
          "data": {
            "text/html": [
              "<div>\n",
              "<style scoped>\n",
              "    .dataframe tbody tr th:only-of-type {\n",
              "        vertical-align: middle;\n",
              "    }\n",
              "\n",
              "    .dataframe tbody tr th {\n",
              "        vertical-align: top;\n",
              "    }\n",
              "\n",
              "    .dataframe thead th {\n",
              "        text-align: right;\n",
              "    }\n",
              "</style>\n",
              "<table border=\"1\" class=\"dataframe\">\n",
              "  <thead>\n",
              "    <tr style=\"text-align: right;\">\n",
              "      <th></th>\n",
              "      <th>LotArea</th>\n",
              "      <th>OverallQual</th>\n",
              "      <th>OverallCond</th>\n",
              "      <th>TotalBsmtSF</th>\n",
              "      <th>FullBath</th>\n",
              "      <th>HalfBath</th>\n",
              "      <th>BedroomAbvGr</th>\n",
              "      <th>TotRmsAbvGrd</th>\n",
              "      <th>Fireplaces</th>\n",
              "      <th>GarageArea</th>\n",
              "      <th>AboveMedianPrice</th>\n",
              "    </tr>\n",
              "  </thead>\n",
              "  <tbody>\n",
              "    <tr>\n",
              "      <th>0</th>\n",
              "      <td>8450</td>\n",
              "      <td>7</td>\n",
              "      <td>5</td>\n",
              "      <td>856</td>\n",
              "      <td>2</td>\n",
              "      <td>1</td>\n",
              "      <td>3</td>\n",
              "      <td>8</td>\n",
              "      <td>0</td>\n",
              "      <td>548</td>\n",
              "      <td>1</td>\n",
              "    </tr>\n",
              "    <tr>\n",
              "      <th>1</th>\n",
              "      <td>9600</td>\n",
              "      <td>6</td>\n",
              "      <td>8</td>\n",
              "      <td>1262</td>\n",
              "      <td>2</td>\n",
              "      <td>0</td>\n",
              "      <td>3</td>\n",
              "      <td>6</td>\n",
              "      <td>1</td>\n",
              "      <td>460</td>\n",
              "      <td>1</td>\n",
              "    </tr>\n",
              "    <tr>\n",
              "      <th>2</th>\n",
              "      <td>11250</td>\n",
              "      <td>7</td>\n",
              "      <td>5</td>\n",
              "      <td>920</td>\n",
              "      <td>2</td>\n",
              "      <td>1</td>\n",
              "      <td>3</td>\n",
              "      <td>6</td>\n",
              "      <td>1</td>\n",
              "      <td>608</td>\n",
              "      <td>1</td>\n",
              "    </tr>\n",
              "    <tr>\n",
              "      <th>3</th>\n",
              "      <td>9550</td>\n",
              "      <td>7</td>\n",
              "      <td>5</td>\n",
              "      <td>756</td>\n",
              "      <td>1</td>\n",
              "      <td>0</td>\n",
              "      <td>3</td>\n",
              "      <td>7</td>\n",
              "      <td>1</td>\n",
              "      <td>642</td>\n",
              "      <td>0</td>\n",
              "    </tr>\n",
              "    <tr>\n",
              "      <th>4</th>\n",
              "      <td>14260</td>\n",
              "      <td>8</td>\n",
              "      <td>5</td>\n",
              "      <td>1145</td>\n",
              "      <td>2</td>\n",
              "      <td>1</td>\n",
              "      <td>4</td>\n",
              "      <td>9</td>\n",
              "      <td>1</td>\n",
              "      <td>836</td>\n",
              "      <td>1</td>\n",
              "    </tr>\n",
              "    <tr>\n",
              "      <th>...</th>\n",
              "      <td>...</td>\n",
              "      <td>...</td>\n",
              "      <td>...</td>\n",
              "      <td>...</td>\n",
              "      <td>...</td>\n",
              "      <td>...</td>\n",
              "      <td>...</td>\n",
              "      <td>...</td>\n",
              "      <td>...</td>\n",
              "      <td>...</td>\n",
              "      <td>...</td>\n",
              "    </tr>\n",
              "    <tr>\n",
              "      <th>1455</th>\n",
              "      <td>7917</td>\n",
              "      <td>6</td>\n",
              "      <td>5</td>\n",
              "      <td>953</td>\n",
              "      <td>2</td>\n",
              "      <td>1</td>\n",
              "      <td>3</td>\n",
              "      <td>7</td>\n",
              "      <td>1</td>\n",
              "      <td>460</td>\n",
              "      <td>1</td>\n",
              "    </tr>\n",
              "    <tr>\n",
              "      <th>1456</th>\n",
              "      <td>13175</td>\n",
              "      <td>6</td>\n",
              "      <td>6</td>\n",
              "      <td>1542</td>\n",
              "      <td>2</td>\n",
              "      <td>0</td>\n",
              "      <td>3</td>\n",
              "      <td>7</td>\n",
              "      <td>2</td>\n",
              "      <td>500</td>\n",
              "      <td>1</td>\n",
              "    </tr>\n",
              "    <tr>\n",
              "      <th>1457</th>\n",
              "      <td>9042</td>\n",
              "      <td>7</td>\n",
              "      <td>9</td>\n",
              "      <td>1152</td>\n",
              "      <td>2</td>\n",
              "      <td>0</td>\n",
              "      <td>4</td>\n",
              "      <td>9</td>\n",
              "      <td>2</td>\n",
              "      <td>252</td>\n",
              "      <td>1</td>\n",
              "    </tr>\n",
              "    <tr>\n",
              "      <th>1458</th>\n",
              "      <td>9717</td>\n",
              "      <td>5</td>\n",
              "      <td>6</td>\n",
              "      <td>1078</td>\n",
              "      <td>1</td>\n",
              "      <td>0</td>\n",
              "      <td>2</td>\n",
              "      <td>5</td>\n",
              "      <td>0</td>\n",
              "      <td>240</td>\n",
              "      <td>0</td>\n",
              "    </tr>\n",
              "    <tr>\n",
              "      <th>1459</th>\n",
              "      <td>9937</td>\n",
              "      <td>5</td>\n",
              "      <td>6</td>\n",
              "      <td>1256</td>\n",
              "      <td>1</td>\n",
              "      <td>1</td>\n",
              "      <td>3</td>\n",
              "      <td>6</td>\n",
              "      <td>0</td>\n",
              "      <td>276</td>\n",
              "      <td>0</td>\n",
              "    </tr>\n",
              "  </tbody>\n",
              "</table>\n",
              "<p>1460 rows × 11 columns</p>\n",
              "</div>"
            ],
            "text/plain": [
              "      LotArea  OverallQual  ...  GarageArea  AboveMedianPrice\n",
              "0        8450            7  ...         548                 1\n",
              "1        9600            6  ...         460                 1\n",
              "2       11250            7  ...         608                 1\n",
              "3        9550            7  ...         642                 0\n",
              "4       14260            8  ...         836                 1\n",
              "...       ...          ...  ...         ...               ...\n",
              "1455     7917            6  ...         460                 1\n",
              "1456    13175            6  ...         500                 1\n",
              "1457     9042            7  ...         252                 1\n",
              "1458     9717            5  ...         240                 0\n",
              "1459     9937            5  ...         276                 0\n",
              "\n",
              "[1460 rows x 11 columns]"
            ]
          },
          "metadata": {
            "tags": []
          },
          "execution_count": 4
        }
      ]
    },
    {
      "cell_type": "code",
      "metadata": {
        "colab": {
          "base_uri": "https://localhost:8080/"
        },
        "id": "nKz2YtvVsACc",
        "outputId": "7625c82b-4428-46c8-a6e8-71d5cf929324"
      },
      "source": [
        "dataset = df.values\n",
        "dataset"
      ],
      "execution_count": 5,
      "outputs": [
        {
          "output_type": "execute_result",
          "data": {
            "text/plain": [
              "array([[ 8450,     7,     5, ...,     0,   548,     1],\n",
              "       [ 9600,     6,     8, ...,     1,   460,     1],\n",
              "       [11250,     7,     5, ...,     1,   608,     1],\n",
              "       ...,\n",
              "       [ 9042,     7,     9, ...,     2,   252,     1],\n",
              "       [ 9717,     5,     6, ...,     0,   240,     0],\n",
              "       [ 9937,     5,     6, ...,     0,   276,     0]])"
            ]
          },
          "metadata": {
            "tags": []
          },
          "execution_count": 5
        }
      ]
    },
    {
      "cell_type": "code",
      "metadata": {
        "id": "9Me1LhYisH5O"
      },
      "source": [
        "X = dataset[:,0:10]\n",
        "Y = dataset[:,10]"
      ],
      "execution_count": 6,
      "outputs": []
    },
    {
      "cell_type": "code",
      "metadata": {
        "colab": {
          "base_uri": "https://localhost:8080/"
        },
        "id": "HkFkdHhPsY4b",
        "outputId": "1463afff-d4ee-4594-e71e-76446efca4ee"
      },
      "source": [
        "from sklearn import preprocessing\n",
        "\n",
        "min_max_scaler = preprocessing.MinMaxScaler()\n",
        "X_scale = min_max_scaler.fit_transform(X)\n",
        "\n",
        "X_scale"
      ],
      "execution_count": 7,
      "outputs": [
        {
          "output_type": "execute_result",
          "data": {
            "text/plain": [
              "array([[0.0334198 , 0.66666667, 0.5       , ..., 0.5       , 0.        ,\n",
              "        0.3864598 ],\n",
              "       [0.03879502, 0.55555556, 0.875     , ..., 0.33333333, 0.33333333,\n",
              "        0.32440056],\n",
              "       [0.04650728, 0.66666667, 0.5       , ..., 0.33333333, 0.33333333,\n",
              "        0.42877292],\n",
              "       ...,\n",
              "       [0.03618687, 0.66666667, 1.        , ..., 0.58333333, 0.66666667,\n",
              "        0.17771509],\n",
              "       [0.03934189, 0.44444444, 0.625     , ..., 0.25      , 0.        ,\n",
              "        0.16925247],\n",
              "       [0.04037019, 0.44444444, 0.625     , ..., 0.33333333, 0.        ,\n",
              "        0.19464034]])"
            ]
          },
          "metadata": {
            "tags": []
          },
          "execution_count": 7
        }
      ]
    },
    {
      "cell_type": "code",
      "metadata": {
        "colab": {
          "base_uri": "https://localhost:8080/"
        },
        "id": "sBjo6wvcskiF",
        "outputId": "f2b4daeb-1442-4e6d-d0f9-dc82103ae1a1"
      },
      "source": [
        "from sklearn.model_selection import train_test_split\n",
        "\n",
        "#train split\n",
        "X_train, X_val_and_test, Y_train, Y_val_and_test = train_test_split(X_scale, Y, test_size=0.3)\n",
        "#validation and test split\n",
        "X_val, X_test, Y_val, Y_test = train_test_split(X_val_and_test, Y_val_and_test, test_size=0.5)\n",
        "\n",
        "print(X_train.shape, X_val.shape, X_test.shape, Y_train.shape, Y_val.shape, Y_test.shape)"
      ],
      "execution_count": 8,
      "outputs": [
        {
          "output_type": "stream",
          "text": [
            "(1022, 10) (219, 10) (219, 10) (1022,) (219,) (219,)\n"
          ],
          "name": "stdout"
        }
      ]
    },
    {
      "cell_type": "code",
      "metadata": {
        "colab": {
          "base_uri": "https://localhost:8080/"
        },
        "id": "CQcMpT5gtf5s",
        "outputId": "5e5823cd-ab3a-4fca-b695-cb7065ea97e4"
      },
      "source": [
        "from keras.models import Sequential\n",
        "from keras.layers import Dense\n",
        "\n",
        "model = Sequential([\n",
        "    Dense(32, activation='relu', input_shape=(10,)),\n",
        "    Dense(32, activation='relu'),\n",
        "    Dense(1, activation='sigmoid'),\n",
        "])\n",
        "\n",
        "model.compile(optimizer='sgd',\n",
        "              loss='binary_crossentropy',\n",
        "              metrics=['accuracy'])\n",
        "\n",
        "hist = model.fit(X_train, Y_train,\n",
        "          batch_size=32, epochs=100,\n",
        "          validation_data=(X_val, Y_val))"
      ],
      "execution_count": 9,
      "outputs": [
        {
          "output_type": "stream",
          "text": [
            "Epoch 1/100\n",
            "32/32 [==============================] - 15s 18ms/step - loss: 0.7082 - accuracy: 0.5205 - val_loss: 0.7012 - val_accuracy: 0.4749\n",
            "Epoch 2/100\n",
            "32/32 [==============================] - 0s 2ms/step - loss: 0.6975 - accuracy: 0.5041 - val_loss: 0.6914 - val_accuracy: 0.5251\n",
            "Epoch 3/100\n",
            "32/32 [==============================] - 0s 2ms/step - loss: 0.6923 - accuracy: 0.5357 - val_loss: 0.6852 - val_accuracy: 0.6027\n",
            "Epoch 4/100\n",
            "32/32 [==============================] - 0s 2ms/step - loss: 0.6857 - accuracy: 0.6032 - val_loss: 0.6804 - val_accuracy: 0.6667\n",
            "Epoch 5/100\n",
            "32/32 [==============================] - 0s 2ms/step - loss: 0.6814 - accuracy: 0.6296 - val_loss: 0.6762 - val_accuracy: 0.7306\n",
            "Epoch 6/100\n",
            "32/32 [==============================] - 0s 3ms/step - loss: 0.6780 - accuracy: 0.6807 - val_loss: 0.6721 - val_accuracy: 0.7580\n",
            "Epoch 7/100\n",
            "32/32 [==============================] - 0s 3ms/step - loss: 0.6750 - accuracy: 0.6916 - val_loss: 0.6676 - val_accuracy: 0.7671\n",
            "Epoch 8/100\n",
            "32/32 [==============================] - 0s 2ms/step - loss: 0.6699 - accuracy: 0.7346 - val_loss: 0.6625 - val_accuracy: 0.7808\n",
            "Epoch 9/100\n",
            "32/32 [==============================] - 0s 3ms/step - loss: 0.6645 - accuracy: 0.7657 - val_loss: 0.6561 - val_accuracy: 0.8174\n",
            "Epoch 10/100\n",
            "32/32 [==============================] - 0s 2ms/step - loss: 0.6587 - accuracy: 0.7860 - val_loss: 0.6500 - val_accuracy: 0.8219\n",
            "Epoch 11/100\n",
            "32/32 [==============================] - 0s 2ms/step - loss: 0.6513 - accuracy: 0.8044 - val_loss: 0.6444 - val_accuracy: 0.8265\n",
            "Epoch 12/100\n",
            "32/32 [==============================] - 0s 2ms/step - loss: 0.6446 - accuracy: 0.8061 - val_loss: 0.6391 - val_accuracy: 0.8265\n",
            "Epoch 13/100\n",
            "32/32 [==============================] - 0s 2ms/step - loss: 0.6397 - accuracy: 0.8127 - val_loss: 0.6335 - val_accuracy: 0.8265\n",
            "Epoch 14/100\n",
            "32/32 [==============================] - 0s 3ms/step - loss: 0.6367 - accuracy: 0.8070 - val_loss: 0.6276 - val_accuracy: 0.8356\n",
            "Epoch 15/100\n",
            "32/32 [==============================] - 0s 2ms/step - loss: 0.6262 - accuracy: 0.8259 - val_loss: 0.6216 - val_accuracy: 0.8311\n",
            "Epoch 16/100\n",
            "32/32 [==============================] - 0s 3ms/step - loss: 0.6193 - accuracy: 0.8241 - val_loss: 0.6151 - val_accuracy: 0.8311\n",
            "Epoch 17/100\n",
            "32/32 [==============================] - 0s 2ms/step - loss: 0.6137 - accuracy: 0.8210 - val_loss: 0.6080 - val_accuracy: 0.8402\n",
            "Epoch 18/100\n",
            "32/32 [==============================] - 0s 2ms/step - loss: 0.6067 - accuracy: 0.8344 - val_loss: 0.6006 - val_accuracy: 0.8402\n",
            "Epoch 19/100\n",
            "32/32 [==============================] - 0s 3ms/step - loss: 0.6032 - accuracy: 0.8001 - val_loss: 0.5928 - val_accuracy: 0.8447\n",
            "Epoch 20/100\n",
            "32/32 [==============================] - 0s 3ms/step - loss: 0.5937 - accuracy: 0.8234 - val_loss: 0.5842 - val_accuracy: 0.8447\n",
            "Epoch 21/100\n",
            "32/32 [==============================] - 0s 3ms/step - loss: 0.5817 - accuracy: 0.8489 - val_loss: 0.5754 - val_accuracy: 0.8402\n",
            "Epoch 22/100\n",
            "32/32 [==============================] - 0s 3ms/step - loss: 0.5711 - accuracy: 0.8513 - val_loss: 0.5663 - val_accuracy: 0.8402\n",
            "Epoch 23/100\n",
            "32/32 [==============================] - 0s 2ms/step - loss: 0.5637 - accuracy: 0.8322 - val_loss: 0.5579 - val_accuracy: 0.8402\n",
            "Epoch 24/100\n",
            "32/32 [==============================] - 0s 2ms/step - loss: 0.5495 - accuracy: 0.8713 - val_loss: 0.5484 - val_accuracy: 0.8402\n",
            "Epoch 25/100\n",
            "32/32 [==============================] - 0s 2ms/step - loss: 0.5491 - accuracy: 0.8541 - val_loss: 0.5396 - val_accuracy: 0.8402\n",
            "Epoch 26/100\n",
            "32/32 [==============================] - 0s 3ms/step - loss: 0.5316 - accuracy: 0.8588 - val_loss: 0.5308 - val_accuracy: 0.8402\n",
            "Epoch 27/100\n",
            "32/32 [==============================] - 0s 2ms/step - loss: 0.5253 - accuracy: 0.8598 - val_loss: 0.5212 - val_accuracy: 0.8447\n",
            "Epoch 28/100\n",
            "32/32 [==============================] - 0s 2ms/step - loss: 0.5110 - accuracy: 0.8610 - val_loss: 0.5123 - val_accuracy: 0.8402\n",
            "Epoch 29/100\n",
            "32/32 [==============================] - 0s 3ms/step - loss: 0.5076 - accuracy: 0.8595 - val_loss: 0.5042 - val_accuracy: 0.8402\n",
            "Epoch 30/100\n",
            "32/32 [==============================] - 0s 2ms/step - loss: 0.4961 - accuracy: 0.8587 - val_loss: 0.4951 - val_accuracy: 0.8402\n",
            "Epoch 31/100\n",
            "32/32 [==============================] - 0s 2ms/step - loss: 0.4782 - accuracy: 0.8876 - val_loss: 0.4868 - val_accuracy: 0.8402\n",
            "Epoch 32/100\n",
            "32/32 [==============================] - 0s 3ms/step - loss: 0.4661 - accuracy: 0.8679 - val_loss: 0.4790 - val_accuracy: 0.8402\n",
            "Epoch 33/100\n",
            "32/32 [==============================] - 0s 2ms/step - loss: 0.4649 - accuracy: 0.8692 - val_loss: 0.4709 - val_accuracy: 0.8402\n",
            "Epoch 34/100\n",
            "32/32 [==============================] - 0s 2ms/step - loss: 0.4629 - accuracy: 0.8572 - val_loss: 0.4629 - val_accuracy: 0.8402\n",
            "Epoch 35/100\n",
            "32/32 [==============================] - 0s 3ms/step - loss: 0.4464 - accuracy: 0.8829 - val_loss: 0.4559 - val_accuracy: 0.8447\n",
            "Epoch 36/100\n",
            "32/32 [==============================] - 0s 2ms/step - loss: 0.4357 - accuracy: 0.8702 - val_loss: 0.4475 - val_accuracy: 0.8402\n",
            "Epoch 37/100\n",
            "32/32 [==============================] - 0s 3ms/step - loss: 0.4447 - accuracy: 0.8517 - val_loss: 0.4401 - val_accuracy: 0.8447\n",
            "Epoch 38/100\n",
            "32/32 [==============================] - 0s 3ms/step - loss: 0.4200 - accuracy: 0.8770 - val_loss: 0.4345 - val_accuracy: 0.8447\n",
            "Epoch 39/100\n",
            "32/32 [==============================] - 0s 3ms/step - loss: 0.4102 - accuracy: 0.8746 - val_loss: 0.4285 - val_accuracy: 0.8447\n",
            "Epoch 40/100\n",
            "32/32 [==============================] - 0s 2ms/step - loss: 0.4045 - accuracy: 0.8747 - val_loss: 0.4235 - val_accuracy: 0.8447\n",
            "Epoch 41/100\n",
            "32/32 [==============================] - 0s 2ms/step - loss: 0.3915 - accuracy: 0.8648 - val_loss: 0.4180 - val_accuracy: 0.8447\n",
            "Epoch 42/100\n",
            "32/32 [==============================] - 0s 2ms/step - loss: 0.3932 - accuracy: 0.8663 - val_loss: 0.4116 - val_accuracy: 0.8493\n",
            "Epoch 43/100\n",
            "32/32 [==============================] - 0s 2ms/step - loss: 0.3780 - accuracy: 0.8867 - val_loss: 0.4082 - val_accuracy: 0.8493\n",
            "Epoch 44/100\n",
            "32/32 [==============================] - 0s 2ms/step - loss: 0.3865 - accuracy: 0.8810 - val_loss: 0.4033 - val_accuracy: 0.8539\n",
            "Epoch 45/100\n",
            "32/32 [==============================] - 0s 2ms/step - loss: 0.3654 - accuracy: 0.8806 - val_loss: 0.3998 - val_accuracy: 0.8539\n",
            "Epoch 46/100\n",
            "32/32 [==============================] - 0s 2ms/step - loss: 0.3673 - accuracy: 0.8750 - val_loss: 0.3966 - val_accuracy: 0.8539\n",
            "Epoch 47/100\n",
            "32/32 [==============================] - 0s 2ms/step - loss: 0.3508 - accuracy: 0.8937 - val_loss: 0.3934 - val_accuracy: 0.8539\n",
            "Epoch 48/100\n",
            "32/32 [==============================] - 0s 2ms/step - loss: 0.3546 - accuracy: 0.8840 - val_loss: 0.3909 - val_accuracy: 0.8539\n",
            "Epoch 49/100\n",
            "32/32 [==============================] - 0s 2ms/step - loss: 0.3383 - accuracy: 0.8932 - val_loss: 0.3873 - val_accuracy: 0.8539\n",
            "Epoch 50/100\n",
            "32/32 [==============================] - 0s 3ms/step - loss: 0.3380 - accuracy: 0.8888 - val_loss: 0.3849 - val_accuracy: 0.8539\n",
            "Epoch 51/100\n",
            "32/32 [==============================] - 0s 3ms/step - loss: 0.3533 - accuracy: 0.8773 - val_loss: 0.3838 - val_accuracy: 0.8539\n",
            "Epoch 52/100\n",
            "32/32 [==============================] - 0s 2ms/step - loss: 0.3465 - accuracy: 0.8743 - val_loss: 0.3811 - val_accuracy: 0.8539\n",
            "Epoch 53/100\n",
            "32/32 [==============================] - 0s 2ms/step - loss: 0.3339 - accuracy: 0.8881 - val_loss: 0.3790 - val_accuracy: 0.8539\n",
            "Epoch 54/100\n",
            "32/32 [==============================] - 0s 3ms/step - loss: 0.3366 - accuracy: 0.8897 - val_loss: 0.3780 - val_accuracy: 0.8539\n",
            "Epoch 55/100\n",
            "32/32 [==============================] - 0s 2ms/step - loss: 0.3389 - accuracy: 0.8768 - val_loss: 0.3794 - val_accuracy: 0.8584\n",
            "Epoch 56/100\n",
            "32/32 [==============================] - 0s 2ms/step - loss: 0.3400 - accuracy: 0.8749 - val_loss: 0.3715 - val_accuracy: 0.8539\n",
            "Epoch 57/100\n",
            "32/32 [==============================] - 0s 2ms/step - loss: 0.3214 - accuracy: 0.8885 - val_loss: 0.3724 - val_accuracy: 0.8539\n",
            "Epoch 58/100\n",
            "32/32 [==============================] - 0s 2ms/step - loss: 0.3340 - accuracy: 0.8653 - val_loss: 0.3727 - val_accuracy: 0.8630\n",
            "Epoch 59/100\n",
            "32/32 [==============================] - 0s 3ms/step - loss: 0.3073 - accuracy: 0.8913 - val_loss: 0.3713 - val_accuracy: 0.8630\n",
            "Epoch 60/100\n",
            "32/32 [==============================] - 0s 2ms/step - loss: 0.3256 - accuracy: 0.8664 - val_loss: 0.3691 - val_accuracy: 0.8584\n",
            "Epoch 61/100\n",
            "32/32 [==============================] - 0s 3ms/step - loss: 0.3195 - accuracy: 0.8733 - val_loss: 0.3673 - val_accuracy: 0.8584\n",
            "Epoch 62/100\n",
            "32/32 [==============================] - 0s 3ms/step - loss: 0.3014 - accuracy: 0.8813 - val_loss: 0.3676 - val_accuracy: 0.8630\n",
            "Epoch 63/100\n",
            "32/32 [==============================] - 0s 3ms/step - loss: 0.3300 - accuracy: 0.8673 - val_loss: 0.3637 - val_accuracy: 0.8584\n",
            "Epoch 64/100\n",
            "32/32 [==============================] - 0s 2ms/step - loss: 0.3075 - accuracy: 0.8708 - val_loss: 0.3647 - val_accuracy: 0.8630\n",
            "Epoch 65/100\n",
            "32/32 [==============================] - 0s 2ms/step - loss: 0.3187 - accuracy: 0.8830 - val_loss: 0.3652 - val_accuracy: 0.8630\n",
            "Epoch 66/100\n",
            "32/32 [==============================] - 0s 3ms/step - loss: 0.3173 - accuracy: 0.8701 - val_loss: 0.3619 - val_accuracy: 0.8584\n",
            "Epoch 67/100\n",
            "32/32 [==============================] - 0s 3ms/step - loss: 0.3295 - accuracy: 0.8652 - val_loss: 0.3634 - val_accuracy: 0.8630\n",
            "Epoch 68/100\n",
            "32/32 [==============================] - 0s 3ms/step - loss: 0.3000 - accuracy: 0.8946 - val_loss: 0.3631 - val_accuracy: 0.8630\n",
            "Epoch 69/100\n",
            "32/32 [==============================] - 0s 3ms/step - loss: 0.2978 - accuracy: 0.8807 - val_loss: 0.3606 - val_accuracy: 0.8630\n",
            "Epoch 70/100\n",
            "32/32 [==============================] - 0s 3ms/step - loss: 0.3000 - accuracy: 0.8775 - val_loss: 0.3604 - val_accuracy: 0.8630\n",
            "Epoch 71/100\n",
            "32/32 [==============================] - 0s 3ms/step - loss: 0.3001 - accuracy: 0.8812 - val_loss: 0.3616 - val_accuracy: 0.8676\n",
            "Epoch 72/100\n",
            "32/32 [==============================] - 0s 2ms/step - loss: 0.2819 - accuracy: 0.8946 - val_loss: 0.3565 - val_accuracy: 0.8584\n",
            "Epoch 73/100\n",
            "32/32 [==============================] - 0s 2ms/step - loss: 0.2977 - accuracy: 0.8823 - val_loss: 0.3553 - val_accuracy: 0.8584\n",
            "Epoch 74/100\n",
            "32/32 [==============================] - 0s 2ms/step - loss: 0.2860 - accuracy: 0.8889 - val_loss: 0.3559 - val_accuracy: 0.8630\n",
            "Epoch 75/100\n",
            "32/32 [==============================] - 0s 2ms/step - loss: 0.2985 - accuracy: 0.8775 - val_loss: 0.3574 - val_accuracy: 0.8676\n",
            "Epoch 76/100\n",
            "32/32 [==============================] - 0s 2ms/step - loss: 0.2914 - accuracy: 0.8882 - val_loss: 0.3560 - val_accuracy: 0.8676\n",
            "Epoch 77/100\n",
            "32/32 [==============================] - 0s 3ms/step - loss: 0.2756 - accuracy: 0.8828 - val_loss: 0.3557 - val_accuracy: 0.8676\n",
            "Epoch 78/100\n",
            "32/32 [==============================] - 0s 2ms/step - loss: 0.2814 - accuracy: 0.8943 - val_loss: 0.3530 - val_accuracy: 0.8630\n",
            "Epoch 79/100\n",
            "32/32 [==============================] - 0s 2ms/step - loss: 0.2984 - accuracy: 0.8755 - val_loss: 0.3591 - val_accuracy: 0.8676\n",
            "Epoch 80/100\n",
            "32/32 [==============================] - 0s 3ms/step - loss: 0.2956 - accuracy: 0.8791 - val_loss: 0.3548 - val_accuracy: 0.8676\n",
            "Epoch 81/100\n",
            "32/32 [==============================] - 0s 2ms/step - loss: 0.2765 - accuracy: 0.8923 - val_loss: 0.3555 - val_accuracy: 0.8676\n",
            "Epoch 82/100\n",
            "32/32 [==============================] - 0s 2ms/step - loss: 0.3056 - accuracy: 0.8871 - val_loss: 0.3511 - val_accuracy: 0.8676\n",
            "Epoch 83/100\n",
            "32/32 [==============================] - 0s 3ms/step - loss: 0.2817 - accuracy: 0.8858 - val_loss: 0.3528 - val_accuracy: 0.8676\n",
            "Epoch 84/100\n",
            "32/32 [==============================] - 0s 3ms/step - loss: 0.2740 - accuracy: 0.8824 - val_loss: 0.3513 - val_accuracy: 0.8676\n",
            "Epoch 85/100\n",
            "32/32 [==============================] - 0s 2ms/step - loss: 0.2833 - accuracy: 0.8832 - val_loss: 0.3533 - val_accuracy: 0.8676\n",
            "Epoch 86/100\n",
            "32/32 [==============================] - 0s 3ms/step - loss: 0.3045 - accuracy: 0.8825 - val_loss: 0.3522 - val_accuracy: 0.8676\n",
            "Epoch 87/100\n",
            "32/32 [==============================] - 0s 2ms/step - loss: 0.2790 - accuracy: 0.9000 - val_loss: 0.3509 - val_accuracy: 0.8676\n",
            "Epoch 88/100\n",
            "32/32 [==============================] - 0s 3ms/step - loss: 0.2956 - accuracy: 0.8783 - val_loss: 0.3457 - val_accuracy: 0.8630\n",
            "Epoch 89/100\n",
            "32/32 [==============================] - 0s 3ms/step - loss: 0.2642 - accuracy: 0.9069 - val_loss: 0.3520 - val_accuracy: 0.8721\n",
            "Epoch 90/100\n",
            "32/32 [==============================] - 0s 2ms/step - loss: 0.3135 - accuracy: 0.8663 - val_loss: 0.3533 - val_accuracy: 0.8721\n",
            "Epoch 91/100\n",
            "32/32 [==============================] - 0s 3ms/step - loss: 0.2911 - accuracy: 0.8816 - val_loss: 0.3473 - val_accuracy: 0.8676\n",
            "Epoch 92/100\n",
            "32/32 [==============================] - 0s 3ms/step - loss: 0.3018 - accuracy: 0.8754 - val_loss: 0.3452 - val_accuracy: 0.8676\n",
            "Epoch 93/100\n",
            "32/32 [==============================] - 0s 3ms/step - loss: 0.2941 - accuracy: 0.8794 - val_loss: 0.3456 - val_accuracy: 0.8676\n",
            "Epoch 94/100\n",
            "32/32 [==============================] - 0s 2ms/step - loss: 0.2886 - accuracy: 0.8861 - val_loss: 0.3447 - val_accuracy: 0.8676\n",
            "Epoch 95/100\n",
            "32/32 [==============================] - 0s 3ms/step - loss: 0.2770 - accuracy: 0.8913 - val_loss: 0.3464 - val_accuracy: 0.8676\n",
            "Epoch 96/100\n",
            "32/32 [==============================] - 0s 3ms/step - loss: 0.2635 - accuracy: 0.8953 - val_loss: 0.3469 - val_accuracy: 0.8721\n",
            "Epoch 97/100\n",
            "32/32 [==============================] - 0s 3ms/step - loss: 0.2973 - accuracy: 0.8728 - val_loss: 0.3438 - val_accuracy: 0.8676\n",
            "Epoch 98/100\n",
            "32/32 [==============================] - 0s 3ms/step - loss: 0.2864 - accuracy: 0.8842 - val_loss: 0.3446 - val_accuracy: 0.8676\n",
            "Epoch 99/100\n",
            "32/32 [==============================] - 0s 2ms/step - loss: 0.2653 - accuracy: 0.8880 - val_loss: 0.3425 - val_accuracy: 0.8676\n",
            "Epoch 100/100\n",
            "32/32 [==============================] - 0s 2ms/step - loss: 0.2468 - accuracy: 0.8990 - val_loss: 0.3412 - val_accuracy: 0.8676\n"
          ],
          "name": "stdout"
        }
      ]
    },
    {
      "cell_type": "code",
      "metadata": {
        "colab": {
          "base_uri": "https://localhost:8080/"
        },
        "id": "exzPdg9vuE-D",
        "outputId": "5fc874fc-e041-419a-8974-7d6c3db5d437"
      },
      "source": [
        "model.evaluate(X_test, Y_test)[1]"
      ],
      "execution_count": 11,
      "outputs": [
        {
          "output_type": "stream",
          "text": [
            "7/7 [==============================] - 0s 2ms/step - loss: 0.2824 - accuracy: 0.8721\n"
          ],
          "name": "stdout"
        },
        {
          "output_type": "execute_result",
          "data": {
            "text/plain": [
              "0.8721461296081543"
            ]
          },
          "metadata": {
            "tags": []
          },
          "execution_count": 11
        }
      ]
    },
    {
      "cell_type": "code",
      "metadata": {
        "colab": {
          "base_uri": "https://localhost:8080/",
          "height": 573
        },
        "id": "Qnp6a1YauIrk",
        "outputId": "40a5e17a-769c-412a-8334-55881c02ba7c"
      },
      "source": [
        "import matplotlib.pyplot as plt\n",
        "\n",
        "plt.plot(hist.history['loss'])\n",
        "plt.plot(hist.history['val_loss'])\n",
        "plt.title('Model loss')\n",
        "plt.ylabel('Loss')\n",
        "plt.xlabel('Epoch')\n",
        "plt.legend(['Train', 'Val'], loc='upper right')\n",
        "plt.show()\n",
        "\n",
        "plt.plot(hist.history['accuracy'])\n",
        "plt.plot(hist.history['val_accuracy'])\n",
        "plt.title('Model accuracy')\n",
        "plt.ylabel('Accuracy')\n",
        "plt.xlabel('Epoch')\n",
        "plt.legend(['Train', 'Val'], loc='lower right')\n",
        "plt.show()"
      ],
      "execution_count": 12,
      "outputs": [
        {
          "output_type": "display_data",
          "data": {
            "image/png": "[encoded data removed]",
            "text/plain": [
              "<Figure size 432x288 with 1 Axes>"
            ]
          },
          "metadata": {
            "tags": [],
            "needs_background": "light"
          }
        },
        {
          "output_type": "display_data",
          "data": {
            "image/png": "[encoded data removed]",
            "text/plain": [
              "<Figure size 432x288 with 1 Axes>"
            ]
          },
          "metadata": {
            "tags": [],
            "needs_background": "light"
          }
        }
      ]
    },
    {
      "cell_type": "code",
      "metadata": {
        "colab": {
          "base_uri": "https://localhost:8080/"
        },
        "id": "aRxztwAawlhZ",
        "outputId": "092fcb2d-2d99-4566-c854-fd511da8fb3e"
      },
      "source": [
        "#model 3 - has the model 2 dropout and regularization but reduces overfitting\n",
        "\n",
        "from keras.layers import Dropout\n",
        "from keras import regularizers\n",
        "\n",
        "model_3 = Sequential([\n",
        "    Dense(1000, activation='relu', kernel_regularizer=regularizers.l2(0.01), input_shape=(10,)),\n",
        "    Dropout(0.3),\n",
        "    Dense(1000, activation='relu', kernel_regularizer=regularizers.l2(0.01)),\n",
        "    Dropout(0.3),\n",
        "    Dense(1000, activation='relu', kernel_regularizer=regularizers.l2(0.01)),\n",
        "    Dropout(0.3),\n",
        "    Dense(1000, activation='relu', kernel_regularizer=regularizers.l2(0.01)),\n",
        "    Dropout(0.3),\n",
        "    Dense(1, activation='sigmoid', kernel_regularizer=regularizers.l2(0.01)),\n",
        "])\n",
        "\n",
        "model_3.compile(optimizer='adam',\n",
        "              loss='binary_crossentropy',\n",
        "              metrics=['accuracy'])\n",
        "\n",
        "hist_3 = model_3.fit(X_train, Y_train,\n",
        "          batch_size=32, epochs=100,\n",
        "          validation_data=(X_val, Y_val))"
      ],
      "execution_count": 14,
      "outputs": [
        {
          "output_type": "stream",
          "text": [
            "Epoch 1/100\n",
            "32/32 [==============================] - 4s 66ms/step - loss: 21.1584 - accuracy: 0.5498 - val_loss: 3.8993 - val_accuracy: 0.8265\n",
            "Epoch 2/100\n",
            "32/32 [==============================] - 2s 51ms/step - loss: 2.4993 - accuracy: 0.8330 - val_loss: 0.6936 - val_accuracy: 0.8584\n",
            "Epoch 3/100\n",
            "32/32 [==============================] - 2s 50ms/step - loss: 0.6077 - accuracy: 0.8649 - val_loss: 0.5547 - val_accuracy: 0.8584\n",
            "Epoch 4/100\n",
            "32/32 [==============================] - 2s 54ms/step - loss: 0.5126 - accuracy: 0.8633 - val_loss: 0.5548 - val_accuracy: 0.8676\n",
            "Epoch 5/100\n",
            "32/32 [==============================] - 2s 51ms/step - loss: 0.5068 - accuracy: 0.8687 - val_loss: 0.5873 - val_accuracy: 0.8128\n",
            "Epoch 6/100\n",
            "32/32 [==============================] - 2s 52ms/step - loss: 0.5044 - accuracy: 0.8443 - val_loss: 0.5145 - val_accuracy: 0.8676\n",
            "Epoch 7/100\n",
            "32/32 [==============================] - 2s 52ms/step - loss: 0.4725 - accuracy: 0.8791 - val_loss: 0.4867 - val_accuracy: 0.8813\n",
            "Epoch 8/100\n",
            "32/32 [==============================] - 2s 51ms/step - loss: 0.4755 - accuracy: 0.8767 - val_loss: 0.5082 - val_accuracy: 0.8676\n",
            "Epoch 9/100\n",
            "32/32 [==============================] - 2s 51ms/step - loss: 0.4900 - accuracy: 0.8715 - val_loss: 0.4837 - val_accuracy: 0.8858\n",
            "Epoch 10/100\n",
            "32/32 [==============================] - 2s 49ms/step - loss: 0.4504 - accuracy: 0.8746 - val_loss: 0.4710 - val_accuracy: 0.8858\n",
            "Epoch 11/100\n",
            "32/32 [==============================] - 2s 52ms/step - loss: 0.4695 - accuracy: 0.8762 - val_loss: 0.4775 - val_accuracy: 0.8858\n",
            "Epoch 12/100\n",
            "32/32 [==============================] - 2s 51ms/step - loss: 0.4624 - accuracy: 0.8659 - val_loss: 0.5172 - val_accuracy: 0.8813\n",
            "Epoch 13/100\n",
            "32/32 [==============================] - 2s 51ms/step - loss: 0.4357 - accuracy: 0.8893 - val_loss: 0.4969 - val_accuracy: 0.8721\n",
            "Epoch 14/100\n",
            "32/32 [==============================] - 2s 53ms/step - loss: 0.4658 - accuracy: 0.8841 - val_loss: 0.4647 - val_accuracy: 0.8858\n",
            "Epoch 15/100\n",
            "32/32 [==============================] - 2s 53ms/step - loss: 0.4558 - accuracy: 0.8799 - val_loss: 0.4907 - val_accuracy: 0.8721\n",
            "Epoch 16/100\n",
            "32/32 [==============================] - 2s 52ms/step - loss: 0.4365 - accuracy: 0.8953 - val_loss: 0.4619 - val_accuracy: 0.8904\n",
            "Epoch 17/100\n",
            "32/32 [==============================] - 2s 53ms/step - loss: 0.4472 - accuracy: 0.8720 - val_loss: 0.4614 - val_accuracy: 0.9041\n",
            "Epoch 18/100\n",
            "32/32 [==============================] - 2s 50ms/step - loss: 0.4514 - accuracy: 0.8811 - val_loss: 0.5114 - val_accuracy: 0.8493\n",
            "Epoch 19/100\n",
            "32/32 [==============================] - 2s 52ms/step - loss: 0.4400 - accuracy: 0.8772 - val_loss: 0.4640 - val_accuracy: 0.8858\n",
            "Epoch 20/100\n",
            "32/32 [==============================] - 2s 52ms/step - loss: 0.4281 - accuracy: 0.8821 - val_loss: 0.4622 - val_accuracy: 0.8950\n",
            "Epoch 21/100\n",
            "32/32 [==============================] - 2s 51ms/step - loss: 0.4770 - accuracy: 0.8586 - val_loss: 0.4880 - val_accuracy: 0.8721\n",
            "Epoch 22/100\n",
            "32/32 [==============================] - 2s 51ms/step - loss: 0.4347 - accuracy: 0.8881 - val_loss: 0.4817 - val_accuracy: 0.8721\n",
            "Epoch 23/100\n",
            "32/32 [==============================] - 2s 51ms/step - loss: 0.4324 - accuracy: 0.8827 - val_loss: 0.4950 - val_accuracy: 0.8630\n",
            "Epoch 24/100\n",
            "32/32 [==============================] - 2s 52ms/step - loss: 0.4800 - accuracy: 0.8443 - val_loss: 0.5066 - val_accuracy: 0.8493\n",
            "Epoch 25/100\n",
            "32/32 [==============================] - 2s 52ms/step - loss: 0.4367 - accuracy: 0.8812 - val_loss: 0.4567 - val_accuracy: 0.8858\n",
            "Epoch 26/100\n",
            "32/32 [==============================] - 2s 53ms/step - loss: 0.4160 - accuracy: 0.8770 - val_loss: 0.4616 - val_accuracy: 0.8950\n",
            "Epoch 27/100\n",
            "32/32 [==============================] - 2s 53ms/step - loss: 0.4442 - accuracy: 0.8772 - val_loss: 0.4552 - val_accuracy: 0.8995\n",
            "Epoch 28/100\n",
            "32/32 [==============================] - 2s 54ms/step - loss: 0.4471 - accuracy: 0.8750 - val_loss: 0.4726 - val_accuracy: 0.8950\n",
            "Epoch 29/100\n",
            "32/32 [==============================] - 2s 53ms/step - loss: 0.4648 - accuracy: 0.8664 - val_loss: 0.4629 - val_accuracy: 0.8767\n",
            "Epoch 30/100\n",
            "32/32 [==============================] - 2s 54ms/step - loss: 0.4087 - accuracy: 0.8855 - val_loss: 0.4536 - val_accuracy: 0.9041\n",
            "Epoch 31/100\n",
            "32/32 [==============================] - 2s 54ms/step - loss: 0.4416 - accuracy: 0.8844 - val_loss: 0.4536 - val_accuracy: 0.8995\n",
            "Epoch 32/100\n",
            "32/32 [==============================] - 2s 49ms/step - loss: 0.4350 - accuracy: 0.8874 - val_loss: 0.4745 - val_accuracy: 0.8721\n",
            "Epoch 33/100\n",
            "32/32 [==============================] - 2s 51ms/step - loss: 0.4255 - accuracy: 0.8911 - val_loss: 0.4572 - val_accuracy: 0.8858\n",
            "Epoch 34/100\n",
            "32/32 [==============================] - 2s 53ms/step - loss: 0.4317 - accuracy: 0.8834 - val_loss: 0.4496 - val_accuracy: 0.9041\n",
            "Epoch 35/100\n",
            "32/32 [==============================] - 2s 50ms/step - loss: 0.4215 - accuracy: 0.8976 - val_loss: 0.4582 - val_accuracy: 0.8767\n",
            "Epoch 36/100\n",
            "32/32 [==============================] - 2s 54ms/step - loss: 0.4085 - accuracy: 0.9126 - val_loss: 0.4576 - val_accuracy: 0.8858\n",
            "Epoch 37/100\n",
            "32/32 [==============================] - 2s 55ms/step - loss: 0.4288 - accuracy: 0.8930 - val_loss: 0.4498 - val_accuracy: 0.8858\n",
            "Epoch 38/100\n",
            "32/32 [==============================] - 2s 54ms/step - loss: 0.4427 - accuracy: 0.8799 - val_loss: 0.4725 - val_accuracy: 0.8950\n",
            "Epoch 39/100\n",
            "32/32 [==============================] - 2s 52ms/step - loss: 0.4427 - accuracy: 0.8820 - val_loss: 0.4583 - val_accuracy: 0.8995\n",
            "Epoch 40/100\n",
            "32/32 [==============================] - 2s 52ms/step - loss: 0.4765 - accuracy: 0.8598 - val_loss: 0.4678 - val_accuracy: 0.8767\n",
            "Epoch 41/100\n",
            "32/32 [==============================] - 2s 52ms/step - loss: 0.4246 - accuracy: 0.8960 - val_loss: 0.4554 - val_accuracy: 0.8904\n",
            "Epoch 42/100\n",
            "32/32 [==============================] - 2s 53ms/step - loss: 0.4200 - accuracy: 0.8964 - val_loss: 0.4551 - val_accuracy: 0.8995\n",
            "Epoch 43/100\n",
            "32/32 [==============================] - 2s 56ms/step - loss: 0.4468 - accuracy: 0.8775 - val_loss: 0.5314 - val_accuracy: 0.8356\n",
            "Epoch 44/100\n",
            "32/32 [==============================] - 2s 53ms/step - loss: 0.4616 - accuracy: 0.8660 - val_loss: 0.4615 - val_accuracy: 0.8767\n",
            "Epoch 45/100\n",
            "32/32 [==============================] - 2s 57ms/step - loss: 0.4219 - accuracy: 0.8935 - val_loss: 0.4488 - val_accuracy: 0.8904\n",
            "Epoch 46/100\n",
            "32/32 [==============================] - 2s 51ms/step - loss: 0.4411 - accuracy: 0.8770 - val_loss: 0.4543 - val_accuracy: 0.8904\n",
            "Epoch 47/100\n",
            "32/32 [==============================] - 2s 53ms/step - loss: 0.4190 - accuracy: 0.8842 - val_loss: 0.4555 - val_accuracy: 0.8858\n",
            "Epoch 48/100\n",
            "32/32 [==============================] - 2s 51ms/step - loss: 0.4262 - accuracy: 0.8882 - val_loss: 0.4523 - val_accuracy: 0.8995\n",
            "Epoch 49/100\n",
            "32/32 [==============================] - 2s 54ms/step - loss: 0.4034 - accuracy: 0.8972 - val_loss: 0.4517 - val_accuracy: 0.8858\n",
            "Epoch 50/100\n",
            "32/32 [==============================] - 2s 56ms/step - loss: 0.4127 - accuracy: 0.8926 - val_loss: 0.4576 - val_accuracy: 0.9041\n",
            "Epoch 51/100\n",
            "32/32 [==============================] - 2s 56ms/step - loss: 0.4071 - accuracy: 0.8900 - val_loss: 0.5495 - val_accuracy: 0.8174\n",
            "Epoch 52/100\n",
            "32/32 [==============================] - 2s 55ms/step - loss: 0.4507 - accuracy: 0.8781 - val_loss: 0.4963 - val_accuracy: 0.8676\n",
            "Epoch 53/100\n",
            "32/32 [==============================] - 2s 56ms/step - loss: 0.4382 - accuracy: 0.8814 - val_loss: 0.4511 - val_accuracy: 0.8995\n",
            "Epoch 54/100\n",
            "32/32 [==============================] - 2s 54ms/step - loss: 0.4160 - accuracy: 0.8952 - val_loss: 0.4494 - val_accuracy: 0.8950\n",
            "Epoch 55/100\n",
            "32/32 [==============================] - 2s 59ms/step - loss: 0.4194 - accuracy: 0.8971 - val_loss: 0.4472 - val_accuracy: 0.8995\n",
            "Epoch 56/100\n",
            "32/32 [==============================] - 2s 59ms/step - loss: 0.4259 - accuracy: 0.8735 - val_loss: 0.4535 - val_accuracy: 0.8995\n",
            "Epoch 57/100\n",
            "32/32 [==============================] - 2s 57ms/step - loss: 0.4274 - accuracy: 0.8853 - val_loss: 0.4589 - val_accuracy: 0.8858\n",
            "Epoch 58/100\n",
            "32/32 [==============================] - 2s 54ms/step - loss: 0.4205 - accuracy: 0.8889 - val_loss: 0.4498 - val_accuracy: 0.8995\n",
            "Epoch 59/100\n",
            "32/32 [==============================] - 2s 54ms/step - loss: 0.3830 - accuracy: 0.9064 - val_loss: 0.4583 - val_accuracy: 0.8813\n",
            "Epoch 60/100\n",
            "32/32 [==============================] - 2s 55ms/step - loss: 0.4220 - accuracy: 0.8835 - val_loss: 0.4690 - val_accuracy: 0.8721\n",
            "Epoch 61/100\n",
            "32/32 [==============================] - 2s 59ms/step - loss: 0.4308 - accuracy: 0.8997 - val_loss: 0.4481 - val_accuracy: 0.9041\n",
            "Epoch 62/100\n",
            "32/32 [==============================] - 2s 55ms/step - loss: 0.4203 - accuracy: 0.8758 - val_loss: 0.4769 - val_accuracy: 0.8676\n",
            "Epoch 63/100\n",
            "32/32 [==============================] - 2s 55ms/step - loss: 0.4372 - accuracy: 0.8729 - val_loss: 0.4732 - val_accuracy: 0.8721\n",
            "Epoch 64/100\n",
            "32/32 [==============================] - 2s 56ms/step - loss: 0.4161 - accuracy: 0.8859 - val_loss: 0.4565 - val_accuracy: 0.8858\n",
            "Epoch 65/100\n",
            "32/32 [==============================] - 2s 54ms/step - loss: 0.4106 - accuracy: 0.8867 - val_loss: 0.4563 - val_accuracy: 0.9041\n",
            "Epoch 66/100\n",
            "32/32 [==============================] - 2s 54ms/step - loss: 0.4606 - accuracy: 0.8664 - val_loss: 0.5082 - val_accuracy: 0.8539\n",
            "Epoch 67/100\n",
            "32/32 [==============================] - 2s 57ms/step - loss: 0.4634 - accuracy: 0.8590 - val_loss: 0.4567 - val_accuracy: 0.8950\n",
            "Epoch 68/100\n",
            "32/32 [==============================] - 2s 57ms/step - loss: 0.4157 - accuracy: 0.8875 - val_loss: 0.4525 - val_accuracy: 0.8858\n",
            "Epoch 69/100\n",
            "32/32 [==============================] - 2s 56ms/step - loss: 0.4105 - accuracy: 0.9069 - val_loss: 0.4638 - val_accuracy: 0.8721\n",
            "Epoch 70/100\n",
            "32/32 [==============================] - 2s 55ms/step - loss: 0.4251 - accuracy: 0.8803 - val_loss: 0.4947 - val_accuracy: 0.8539\n",
            "Epoch 71/100\n",
            "32/32 [==============================] - 2s 53ms/step - loss: 0.4216 - accuracy: 0.8769 - val_loss: 0.4522 - val_accuracy: 0.8950\n",
            "Epoch 72/100\n",
            "32/32 [==============================] - 2s 55ms/step - loss: 0.4293 - accuracy: 0.8815 - val_loss: 0.4582 - val_accuracy: 0.8995\n",
            "Epoch 73/100\n",
            "32/32 [==============================] - 2s 56ms/step - loss: 0.4236 - accuracy: 0.8826 - val_loss: 0.4547 - val_accuracy: 0.8858\n",
            "Epoch 74/100\n",
            "32/32 [==============================] - 2s 56ms/step - loss: 0.4396 - accuracy: 0.8696 - val_loss: 0.4641 - val_accuracy: 0.8858\n",
            "Epoch 75/100\n",
            "32/32 [==============================] - 2s 56ms/step - loss: 0.4085 - accuracy: 0.9051 - val_loss: 0.5039 - val_accuracy: 0.8493\n",
            "Epoch 76/100\n",
            "32/32 [==============================] - 2s 55ms/step - loss: 0.4367 - accuracy: 0.8761 - val_loss: 0.5053 - val_accuracy: 0.8539\n",
            "Epoch 77/100\n",
            "32/32 [==============================] - 2s 56ms/step - loss: 0.4326 - accuracy: 0.8847 - val_loss: 0.4522 - val_accuracy: 0.8995\n",
            "Epoch 78/100\n",
            "32/32 [==============================] - 2s 56ms/step - loss: 0.4300 - accuracy: 0.8810 - val_loss: 0.4542 - val_accuracy: 0.8858\n",
            "Epoch 79/100\n",
            "32/32 [==============================] - 2s 55ms/step - loss: 0.4498 - accuracy: 0.8678 - val_loss: 0.4545 - val_accuracy: 0.9041\n",
            "Epoch 80/100\n",
            "32/32 [==============================] - 2s 56ms/step - loss: 0.4276 - accuracy: 0.8829 - val_loss: 0.4664 - val_accuracy: 0.8950\n",
            "Epoch 81/100\n",
            "32/32 [==============================] - 2s 52ms/step - loss: 0.3986 - accuracy: 0.9044 - val_loss: 0.4522 - val_accuracy: 0.9041\n",
            "Epoch 82/100\n",
            "32/32 [==============================] - 2s 55ms/step - loss: 0.4124 - accuracy: 0.8805 - val_loss: 0.4744 - val_accuracy: 0.8721\n",
            "Epoch 83/100\n",
            "32/32 [==============================] - 2s 55ms/step - loss: 0.4006 - accuracy: 0.8977 - val_loss: 0.4518 - val_accuracy: 0.8858\n",
            "Epoch 84/100\n",
            "32/32 [==============================] - 2s 56ms/step - loss: 0.4300 - accuracy: 0.8838 - val_loss: 0.5255 - val_accuracy: 0.8493\n",
            "Epoch 85/100\n",
            "32/32 [==============================] - 2s 56ms/step - loss: 0.4759 - accuracy: 0.8503 - val_loss: 0.4723 - val_accuracy: 0.8767\n",
            "Epoch 86/100\n",
            "32/32 [==============================] - 2s 58ms/step - loss: 0.4220 - accuracy: 0.9009 - val_loss: 0.4828 - val_accuracy: 0.8676\n",
            "Epoch 87/100\n",
            "32/32 [==============================] - 2s 60ms/step - loss: 0.4411 - accuracy: 0.8790 - val_loss: 0.4736 - val_accuracy: 0.8950\n",
            "Epoch 88/100\n",
            "32/32 [==============================] - 2s 55ms/step - loss: 0.4186 - accuracy: 0.8930 - val_loss: 0.4697 - val_accuracy: 0.9087\n",
            "Epoch 89/100\n",
            "32/32 [==============================] - 2s 57ms/step - loss: 0.4248 - accuracy: 0.8832 - val_loss: 0.4768 - val_accuracy: 0.8995\n",
            "Epoch 90/100\n",
            "32/32 [==============================] - 2s 55ms/step - loss: 0.4662 - accuracy: 0.8651 - val_loss: 0.4564 - val_accuracy: 0.8858\n",
            "Epoch 91/100\n",
            "32/32 [==============================] - 2s 54ms/step - loss: 0.4195 - accuracy: 0.8805 - val_loss: 0.4720 - val_accuracy: 0.8721\n",
            "Epoch 92/100\n",
            "32/32 [==============================] - 2s 56ms/step - loss: 0.3953 - accuracy: 0.8900 - val_loss: 0.4525 - val_accuracy: 0.8858\n",
            "Epoch 93/100\n",
            "32/32 [==============================] - 2s 54ms/step - loss: 0.4302 - accuracy: 0.8839 - val_loss: 0.4598 - val_accuracy: 0.8995\n",
            "Epoch 94/100\n",
            "32/32 [==============================] - 2s 60ms/step - loss: 0.4340 - accuracy: 0.8740 - val_loss: 0.4734 - val_accuracy: 0.8721\n",
            "Epoch 95/100\n",
            "32/32 [==============================] - 2s 57ms/step - loss: 0.4098 - accuracy: 0.8876 - val_loss: 0.4493 - val_accuracy: 0.8995\n",
            "Epoch 96/100\n",
            "32/32 [==============================] - 2s 55ms/step - loss: 0.4126 - accuracy: 0.8983 - val_loss: 0.4525 - val_accuracy: 0.9041\n",
            "Epoch 97/100\n",
            "32/32 [==============================] - 2s 56ms/step - loss: 0.4231 - accuracy: 0.8745 - val_loss: 0.4501 - val_accuracy: 0.8995\n",
            "Epoch 98/100\n",
            "32/32 [==============================] - 2s 57ms/step - loss: 0.4339 - accuracy: 0.8822 - val_loss: 0.4488 - val_accuracy: 0.9087\n",
            "Epoch 99/100\n",
            "32/32 [==============================] - 2s 58ms/step - loss: 0.4338 - accuracy: 0.8788 - val_loss: 0.4484 - val_accuracy: 0.9087\n",
            "Epoch 100/100\n",
            "32/32 [==============================] - 2s 60ms/step - loss: 0.4192 - accuracy: 0.8927 - val_loss: 0.4622 - val_accuracy: 0.8813\n"
          ],
          "name": "stdout"
        }
      ]
    },
    {
      "cell_type": "code",
      "metadata": {
        "colab": {
          "base_uri": "https://localhost:8080/",
          "height": 573
        },
        "id": "oVRgfkifw51G",
        "outputId": "26bc3a14-919e-4035-bbcb-381331364f38"
      },
      "source": [
        "plt.plot(hist_3.history['loss'])\n",
        "plt.plot(hist_3.history['val_loss'])\n",
        "plt.title('Model loss')\n",
        "plt.ylabel('Loss')\n",
        "plt.xlabel('Epoch')\n",
        "plt.legend(['Train', 'Val'], loc='upper right')\n",
        "plt.ylim(top=1.2, bottom=0)\n",
        "plt.show()\n",
        "\n",
        "plt.plot(hist_3.history['accuracy'])\n",
        "plt.plot(hist_3.history['val_accuracy'])\n",
        "plt.title('Model accuracy')\n",
        "plt.ylabel('Accuracy')\n",
        "plt.xlabel('Epoch')\n",
        "plt.legend(['Train', 'Val'], loc='lower right')\n",
        "plt.show()"
      ],
      "execution_count": 15,
      "outputs": [
        {
          "output_type": "display_data",
          "data": {
            "image/png": "[encoded data removed]",
            "text/plain": [
              "<Figure size 432x288 with 1 Axes>"
            ]
          },
          "metadata": {
            "tags": [],
            "needs_background": "light"
          }
        },
        {
          "output_type": "display_data",
          "data": {
            "image/png": "[encoded data removed]",
            "text/plain": [
              "<Figure size 432x288 with 1 Axes>"
            ]
          },
          "metadata": {
            "tags": [],
            "needs_background": "light"
          }
        }
      ]
    },
    {
      "cell_type": "markdown",
      "metadata": {
        "id": "ETB5hiVFZtmW"
      },
      "source": [
        "# **Practice with reducing Overfitting through Regularization**"
      ]
    },
    {
      "cell_type": "code",
      "metadata": {
        "id": "IWTSX6-FZ1C6"
      },
      "source": [
        "import matplotlib.pyplot as plt"
      ],
      "execution_count": 16,
      "outputs": []
    },
    {
      "cell_type": "code",
      "metadata": {
        "colab": {
          "base_uri": "https://localhost:8080/",
          "height": 295
        },
        "id": "usZ6exIXbn0N",
        "outputId": "d88702be-354d-4798-97c2-c46b4dadc46b"
      },
      "source": [
        "# visualize training and validation loss\n",
        "plt.plot(hist.history['loss'])\n",
        "plt.plot(hist.history['val_loss'])\n",
        "plt.title('Model loss')\n",
        "plt.ylabel('Loss')\n",
        "plt.xlabel('Epoch')\n",
        "plt.legend(['Train', 'Val'], loc='upper right')\n",
        "plt.show()"
      ],
      "execution_count": 17,
      "outputs": [
        {
          "output_type": "display_data",
          "data": {
            "image/png": "[encoded data removed]",
            "text/plain": [
              "<Figure size 432x288 with 1 Axes>"
            ]
          },
          "metadata": {
            "tags": [],
            "needs_background": "light"
          }
        }
      ]
    },
    {
      "cell_type": "code",
      "metadata": {
        "colab": {
          "base_uri": "https://localhost:8080/",
          "height": 295
        },
        "id": "BwesdQwbbrif",
        "outputId": "9ef49e99-7e4f-4d56-e66f-f6480c9dbe9e"
      },
      "source": [
        "# visualize training and validation accuracy\n",
        "plt.plot(hist.history['accuracy'])\n",
        "plt.plot(hist.history['val_accuracy'])\n",
        "plt.title('Model accuracy')\n",
        "plt.ylabel('Accuracy')\n",
        "plt.xlabel('Epoch')\n",
        "plt.legend(['Train', 'Val'], loc='lower right')\n",
        "plt.show()"
      ],
      "execution_count": 20,
      "outputs": [
        {
          "output_type": "display_data",
          "data": {
            "image/png": "[encoded data removed]",
            "text/plain": [
              "<Figure size 432x288 with 1 Axes>"
            ]
          },
          "metadata": {
            "tags": [],
            "needs_background": "light"
          }
        }
      ]
    },
    {
      "cell_type": "code",
      "metadata": {
        "id": "WwS_NDMYb75w"
      },
      "source": [
        "# enter regularization \n",
        "## here's a model that is badly overfitted (for an example)\n",
        "\n",
        "model_2 = Sequential([\n",
        "    Dense(1000, activation='relu', input_shape=(10,)),\n",
        "    Dense(1000, activation='relu'),\n",
        "    Dense(1000, activation='relu'),\n",
        "    Dense(1000, activation='relu'),\n",
        "    Dense(1, activation='sigmoid'),\n",
        "])"
      ],
      "execution_count": 21,
      "outputs": []
    },
    {
      "cell_type": "code",
      "metadata": {
        "id": "2G5NgRRHcEtT"
      },
      "source": [
        "model_2.compile(optimizer='adam',\n",
        "              loss='binary_crossentropy',\n",
        "              metrics=['accuracy'])"
      ],
      "execution_count": 22,
      "outputs": []
    },
    {
      "cell_type": "code",
      "metadata": {
        "colab": {
          "base_uri": "https://localhost:8080/"
        },
        "id": "L2I6gsgUcG5D",
        "outputId": "993a16c2-bb6e-47de-9fc9-0743bb7f744a"
      },
      "source": [
        "hist_2 = model_2.fit(X_train, Y_train,\n",
        "          batch_size=32, epochs=100,\n",
        "          validation_data=(X_val, Y_val))"
      ],
      "execution_count": 23,
      "outputs": [
        {
          "output_type": "stream",
          "text": [
            "Epoch 1/100\n",
            "32/32 [==============================] - 3s 48ms/step - loss: 0.5534 - accuracy: 0.6539 - val_loss: 0.4465 - val_accuracy: 0.8356\n",
            "Epoch 2/100\n",
            "32/32 [==============================] - 1s 38ms/step - loss: 0.3270 - accuracy: 0.8655 - val_loss: 0.4182 - val_accuracy: 0.8402\n",
            "Epoch 3/100\n",
            "32/32 [==============================] - 1s 39ms/step - loss: 0.3032 - accuracy: 0.8608 - val_loss: 0.3876 - val_accuracy: 0.8813\n",
            "Epoch 4/100\n",
            "32/32 [==============================] - 1s 39ms/step - loss: 0.2865 - accuracy: 0.8723 - val_loss: 0.3815 - val_accuracy: 0.8676\n",
            "Epoch 5/100\n",
            "32/32 [==============================] - 1s 39ms/step - loss: 0.2572 - accuracy: 0.8857 - val_loss: 0.3879 - val_accuracy: 0.8904\n",
            "Epoch 6/100\n",
            "32/32 [==============================] - 1s 40ms/step - loss: 0.2412 - accuracy: 0.8997 - val_loss: 0.3653 - val_accuracy: 0.8858\n",
            "Epoch 7/100\n",
            "32/32 [==============================] - 1s 40ms/step - loss: 0.2104 - accuracy: 0.9147 - val_loss: 0.3527 - val_accuracy: 0.9041\n",
            "Epoch 8/100\n",
            "32/32 [==============================] - 1s 41ms/step - loss: 0.2295 - accuracy: 0.9070 - val_loss: 0.3868 - val_accuracy: 0.8813\n",
            "Epoch 9/100\n",
            "32/32 [==============================] - 1s 39ms/step - loss: 0.2176 - accuracy: 0.8969 - val_loss: 0.3607 - val_accuracy: 0.8995\n",
            "Epoch 10/100\n",
            "32/32 [==============================] - 1s 39ms/step - loss: 0.2079 - accuracy: 0.9157 - val_loss: 0.3698 - val_accuracy: 0.8858\n",
            "Epoch 11/100\n",
            "32/32 [==============================] - 1s 38ms/step - loss: 0.1763 - accuracy: 0.9239 - val_loss: 0.3741 - val_accuracy: 0.9041\n",
            "Epoch 12/100\n",
            "32/32 [==============================] - 1s 39ms/step - loss: 0.2107 - accuracy: 0.9187 - val_loss: 0.4056 - val_accuracy: 0.8904\n",
            "Epoch 13/100\n",
            "32/32 [==============================] - 1s 39ms/step - loss: 0.1789 - accuracy: 0.9186 - val_loss: 0.3914 - val_accuracy: 0.8995\n",
            "Epoch 14/100\n",
            "32/32 [==============================] - 1s 38ms/step - loss: 0.1890 - accuracy: 0.9096 - val_loss: 0.4706 - val_accuracy: 0.8995\n",
            "Epoch 15/100\n",
            "32/32 [==============================] - 1s 38ms/step - loss: 0.1780 - accuracy: 0.9243 - val_loss: 0.5113 - val_accuracy: 0.9041\n",
            "Epoch 16/100\n",
            "32/32 [==============================] - 1s 41ms/step - loss: 0.1741 - accuracy: 0.9198 - val_loss: 0.4976 - val_accuracy: 0.8904\n",
            "Epoch 17/100\n",
            "32/32 [==============================] - 1s 39ms/step - loss: 0.1755 - accuracy: 0.9313 - val_loss: 0.4530 - val_accuracy: 0.8950\n",
            "Epoch 18/100\n",
            "32/32 [==============================] - 1s 39ms/step - loss: 0.1709 - accuracy: 0.9267 - val_loss: 0.4383 - val_accuracy: 0.9041\n",
            "Epoch 19/100\n",
            "32/32 [==============================] - 1s 38ms/step - loss: 0.2272 - accuracy: 0.8876 - val_loss: 0.4416 - val_accuracy: 0.8904\n",
            "Epoch 20/100\n",
            "32/32 [==============================] - 1s 40ms/step - loss: 0.1729 - accuracy: 0.9233 - val_loss: 0.4531 - val_accuracy: 0.9132\n",
            "Epoch 21/100\n",
            "32/32 [==============================] - 1s 39ms/step - loss: 0.1678 - accuracy: 0.9146 - val_loss: 0.4385 - val_accuracy: 0.9269\n",
            "Epoch 22/100\n",
            "32/32 [==============================] - 1s 40ms/step - loss: 0.1582 - accuracy: 0.9348 - val_loss: 0.4990 - val_accuracy: 0.8995\n",
            "Epoch 23/100\n",
            "32/32 [==============================] - 1s 39ms/step - loss: 0.1794 - accuracy: 0.9192 - val_loss: 0.6034 - val_accuracy: 0.8995\n",
            "Epoch 24/100\n",
            "32/32 [==============================] - 1s 41ms/step - loss: 0.1559 - accuracy: 0.9383 - val_loss: 0.5291 - val_accuracy: 0.8858\n",
            "Epoch 25/100\n",
            "32/32 [==============================] - 1s 39ms/step - loss: 0.1678 - accuracy: 0.9342 - val_loss: 0.4506 - val_accuracy: 0.8858\n",
            "Epoch 26/100\n",
            "32/32 [==============================] - 1s 39ms/step - loss: 0.1958 - accuracy: 0.9121 - val_loss: 0.5539 - val_accuracy: 0.8995\n",
            "Epoch 27/100\n",
            "32/32 [==============================] - 1s 40ms/step - loss: 0.2030 - accuracy: 0.9076 - val_loss: 0.5139 - val_accuracy: 0.8904\n",
            "Epoch 28/100\n",
            "32/32 [==============================] - 1s 40ms/step - loss: 0.1446 - accuracy: 0.9275 - val_loss: 0.5584 - val_accuracy: 0.8904\n",
            "Epoch 29/100\n",
            "32/32 [==============================] - 1s 41ms/step - loss: 0.2032 - accuracy: 0.9085 - val_loss: 0.4579 - val_accuracy: 0.8858\n",
            "Epoch 30/100\n",
            "32/32 [==============================] - 1s 39ms/step - loss: 0.1552 - accuracy: 0.9310 - val_loss: 0.5243 - val_accuracy: 0.8950\n",
            "Epoch 31/100\n",
            "32/32 [==============================] - 1s 40ms/step - loss: 0.1380 - accuracy: 0.9467 - val_loss: 0.4482 - val_accuracy: 0.8904\n",
            "Epoch 32/100\n",
            "32/32 [==============================] - 1s 41ms/step - loss: 0.1680 - accuracy: 0.9239 - val_loss: 0.6367 - val_accuracy: 0.8950\n",
            "Epoch 33/100\n",
            "32/32 [==============================] - 1s 40ms/step - loss: 0.1700 - accuracy: 0.9264 - val_loss: 0.5465 - val_accuracy: 0.8995\n",
            "Epoch 34/100\n",
            "32/32 [==============================] - 1s 38ms/step - loss: 0.1647 - accuracy: 0.9252 - val_loss: 0.4960 - val_accuracy: 0.8858\n",
            "Epoch 35/100\n",
            "32/32 [==============================] - 1s 40ms/step - loss: 0.1453 - accuracy: 0.9390 - val_loss: 0.5950 - val_accuracy: 0.9041\n",
            "Epoch 36/100\n",
            "32/32 [==============================] - 1s 39ms/step - loss: 0.1560 - accuracy: 0.9295 - val_loss: 0.6293 - val_accuracy: 0.8813\n",
            "Epoch 37/100\n",
            "32/32 [==============================] - 1s 39ms/step - loss: 0.1898 - accuracy: 0.9156 - val_loss: 0.6021 - val_accuracy: 0.8904\n",
            "Epoch 38/100\n",
            "32/32 [==============================] - 1s 39ms/step - loss: 0.1438 - accuracy: 0.9328 - val_loss: 0.6014 - val_accuracy: 0.8995\n",
            "Epoch 39/100\n",
            "32/32 [==============================] - 1s 39ms/step - loss: 0.1938 - accuracy: 0.9087 - val_loss: 0.5344 - val_accuracy: 0.8995\n",
            "Epoch 40/100\n",
            "32/32 [==============================] - 1s 41ms/step - loss: 0.1768 - accuracy: 0.9267 - val_loss: 0.5517 - val_accuracy: 0.8858\n",
            "Epoch 41/100\n",
            "32/32 [==============================] - 1s 39ms/step - loss: 0.1443 - accuracy: 0.9302 - val_loss: 0.5941 - val_accuracy: 0.8858\n",
            "Epoch 42/100\n",
            "32/32 [==============================] - 1s 39ms/step - loss: 0.1629 - accuracy: 0.9311 - val_loss: 0.6287 - val_accuracy: 0.8950\n",
            "Epoch 43/100\n",
            "32/32 [==============================] - 1s 40ms/step - loss: 0.1395 - accuracy: 0.9316 - val_loss: 0.8183 - val_accuracy: 0.8858\n",
            "Epoch 44/100\n",
            "32/32 [==============================] - 1s 40ms/step - loss: 0.1931 - accuracy: 0.9232 - val_loss: 0.5850 - val_accuracy: 0.9087\n",
            "Epoch 45/100\n",
            "32/32 [==============================] - 1s 40ms/step - loss: 0.1426 - accuracy: 0.9485 - val_loss: 0.5340 - val_accuracy: 0.8904\n",
            "Epoch 46/100\n",
            "32/32 [==============================] - 1s 40ms/step - loss: 0.1532 - accuracy: 0.9395 - val_loss: 0.5733 - val_accuracy: 0.8904\n",
            "Epoch 47/100\n",
            "32/32 [==============================] - 1s 40ms/step - loss: 0.1341 - accuracy: 0.9522 - val_loss: 0.5008 - val_accuracy: 0.9041\n",
            "Epoch 48/100\n",
            "32/32 [==============================] - 1s 40ms/step - loss: 0.1698 - accuracy: 0.9268 - val_loss: 0.5675 - val_accuracy: 0.8813\n",
            "Epoch 49/100\n",
            "32/32 [==============================] - 1s 41ms/step - loss: 0.1557 - accuracy: 0.9285 - val_loss: 0.5321 - val_accuracy: 0.8904\n",
            "Epoch 50/100\n",
            "32/32 [==============================] - 1s 39ms/step - loss: 0.1366 - accuracy: 0.9416 - val_loss: 0.5794 - val_accuracy: 0.8767\n",
            "Epoch 51/100\n",
            "32/32 [==============================] - 1s 39ms/step - loss: 0.1425 - accuracy: 0.9346 - val_loss: 0.5856 - val_accuracy: 0.8904\n",
            "Epoch 52/100\n",
            "32/32 [==============================] - 1s 40ms/step - loss: 0.1306 - accuracy: 0.9366 - val_loss: 0.6592 - val_accuracy: 0.8767\n",
            "Epoch 53/100\n",
            "32/32 [==============================] - 1s 41ms/step - loss: 0.1353 - accuracy: 0.9455 - val_loss: 0.8719 - val_accuracy: 0.8630\n",
            "Epoch 54/100\n",
            "32/32 [==============================] - 1s 40ms/step - loss: 0.1880 - accuracy: 0.9151 - val_loss: 0.6530 - val_accuracy: 0.8950\n",
            "Epoch 55/100\n",
            "32/32 [==============================] - 1s 39ms/step - loss: 0.1501 - accuracy: 0.9307 - val_loss: 0.5617 - val_accuracy: 0.8767\n",
            "Epoch 56/100\n",
            "32/32 [==============================] - 1s 41ms/step - loss: 0.1378 - accuracy: 0.9359 - val_loss: 0.5788 - val_accuracy: 0.8995\n",
            "Epoch 57/100\n",
            "32/32 [==============================] - 1s 39ms/step - loss: 0.1197 - accuracy: 0.9456 - val_loss: 0.7431 - val_accuracy: 0.8767\n",
            "Epoch 58/100\n",
            "32/32 [==============================] - 1s 40ms/step - loss: 0.1268 - accuracy: 0.9450 - val_loss: 0.6713 - val_accuracy: 0.8995\n",
            "Epoch 59/100\n",
            "32/32 [==============================] - 1s 39ms/step - loss: 0.1495 - accuracy: 0.9324 - val_loss: 0.7768 - val_accuracy: 0.8950\n",
            "Epoch 60/100\n",
            "32/32 [==============================] - 1s 40ms/step - loss: 0.1140 - accuracy: 0.9526 - val_loss: 0.6039 - val_accuracy: 0.9041\n",
            "Epoch 61/100\n",
            "32/32 [==============================] - 1s 40ms/step - loss: 0.1436 - accuracy: 0.9435 - val_loss: 0.7164 - val_accuracy: 0.8813\n",
            "Epoch 62/100\n",
            "32/32 [==============================] - 1s 39ms/step - loss: 0.1215 - accuracy: 0.9407 - val_loss: 0.7364 - val_accuracy: 0.8995\n",
            "Epoch 63/100\n",
            "32/32 [==============================] - 1s 39ms/step - loss: 0.1189 - accuracy: 0.9466 - val_loss: 0.6939 - val_accuracy: 0.8904\n",
            "Epoch 64/100\n",
            "32/32 [==============================] - 1s 41ms/step - loss: 0.1100 - accuracy: 0.9659 - val_loss: 0.8360 - val_accuracy: 0.8676\n",
            "Epoch 65/100\n",
            "32/32 [==============================] - 1s 39ms/step - loss: 0.1377 - accuracy: 0.9506 - val_loss: 0.8057 - val_accuracy: 0.8858\n",
            "Epoch 66/100\n",
            "32/32 [==============================] - 1s 40ms/step - loss: 0.1256 - accuracy: 0.9395 - val_loss: 0.9143 - val_accuracy: 0.8950\n",
            "Epoch 67/100\n",
            "32/32 [==============================] - 1s 40ms/step - loss: 0.1436 - accuracy: 0.9439 - val_loss: 0.8443 - val_accuracy: 0.8858\n",
            "Epoch 68/100\n",
            "32/32 [==============================] - 1s 40ms/step - loss: 0.1309 - accuracy: 0.9474 - val_loss: 0.9190 - val_accuracy: 0.8904\n",
            "Epoch 69/100\n",
            "32/32 [==============================] - 1s 39ms/step - loss: 0.1675 - accuracy: 0.9383 - val_loss: 0.6159 - val_accuracy: 0.8676\n",
            "Epoch 70/100\n",
            "32/32 [==============================] - 1s 39ms/step - loss: 0.1742 - accuracy: 0.9156 - val_loss: 0.6630 - val_accuracy: 0.8995\n",
            "Epoch 71/100\n",
            "32/32 [==============================] - 1s 40ms/step - loss: 0.1135 - accuracy: 0.9501 - val_loss: 0.6415 - val_accuracy: 0.8721\n",
            "Epoch 72/100\n",
            "32/32 [==============================] - 1s 39ms/step - loss: 0.1104 - accuracy: 0.9518 - val_loss: 0.7440 - val_accuracy: 0.8813\n",
            "Epoch 73/100\n",
            "32/32 [==============================] - 1s 39ms/step - loss: 0.1181 - accuracy: 0.9450 - val_loss: 0.9168 - val_accuracy: 0.8950\n",
            "Epoch 74/100\n",
            "32/32 [==============================] - 1s 40ms/step - loss: 0.1244 - accuracy: 0.9459 - val_loss: 0.8155 - val_accuracy: 0.8813\n",
            "Epoch 75/100\n",
            "32/32 [==============================] - 1s 39ms/step - loss: 0.1294 - accuracy: 0.9387 - val_loss: 0.8047 - val_accuracy: 0.8813\n",
            "Epoch 76/100\n",
            "32/32 [==============================] - 1s 39ms/step - loss: 0.1043 - accuracy: 0.9539 - val_loss: 0.7833 - val_accuracy: 0.8950\n",
            "Epoch 77/100\n",
            "32/32 [==============================] - 1s 39ms/step - loss: 0.1101 - accuracy: 0.9566 - val_loss: 0.6877 - val_accuracy: 0.8767\n",
            "Epoch 78/100\n",
            "32/32 [==============================] - 1s 39ms/step - loss: 0.1203 - accuracy: 0.9398 - val_loss: 1.0001 - val_accuracy: 0.8767\n",
            "Epoch 79/100\n",
            "32/32 [==============================] - 1s 39ms/step - loss: 0.0961 - accuracy: 0.9565 - val_loss: 0.8099 - val_accuracy: 0.8813\n",
            "Epoch 80/100\n",
            "32/32 [==============================] - 1s 39ms/step - loss: 0.0898 - accuracy: 0.9666 - val_loss: 0.9598 - val_accuracy: 0.8813\n",
            "Epoch 81/100\n",
            "32/32 [==============================] - 1s 39ms/step - loss: 0.1110 - accuracy: 0.9515 - val_loss: 0.7197 - val_accuracy: 0.8813\n",
            "Epoch 82/100\n",
            "32/32 [==============================] - 1s 39ms/step - loss: 0.0991 - accuracy: 0.9545 - val_loss: 0.9080 - val_accuracy: 0.8904\n",
            "Epoch 83/100\n",
            "32/32 [==============================] - 1s 39ms/step - loss: 0.1076 - accuracy: 0.9576 - val_loss: 0.7669 - val_accuracy: 0.8813\n",
            "Epoch 84/100\n",
            "32/32 [==============================] - 1s 39ms/step - loss: 0.0904 - accuracy: 0.9623 - val_loss: 0.9635 - val_accuracy: 0.8858\n",
            "Epoch 85/100\n",
            "32/32 [==============================] - 1s 40ms/step - loss: 0.0933 - accuracy: 0.9541 - val_loss: 1.1843 - val_accuracy: 0.8858\n",
            "Epoch 86/100\n",
            "32/32 [==============================] - 1s 38ms/step - loss: 0.1304 - accuracy: 0.9426 - val_loss: 0.9705 - val_accuracy: 0.9041\n",
            "Epoch 87/100\n",
            "32/32 [==============================] - 1s 39ms/step - loss: 0.1035 - accuracy: 0.9600 - val_loss: 0.7632 - val_accuracy: 0.8858\n",
            "Epoch 88/100\n",
            "32/32 [==============================] - 1s 39ms/step - loss: 0.1116 - accuracy: 0.9550 - val_loss: 0.8986 - val_accuracy: 0.9041\n",
            "Epoch 89/100\n",
            "32/32 [==============================] - 1s 40ms/step - loss: 0.0842 - accuracy: 0.9610 - val_loss: 1.0626 - val_accuracy: 0.8858\n",
            "Epoch 90/100\n",
            "32/32 [==============================] - 1s 39ms/step - loss: 0.0878 - accuracy: 0.9655 - val_loss: 0.7979 - val_accuracy: 0.8995\n",
            "Epoch 91/100\n",
            "32/32 [==============================] - 1s 40ms/step - loss: 0.1018 - accuracy: 0.9573 - val_loss: 1.0639 - val_accuracy: 0.8904\n",
            "Epoch 92/100\n",
            "32/32 [==============================] - 1s 41ms/step - loss: 0.1039 - accuracy: 0.9539 - val_loss: 0.9770 - val_accuracy: 0.8950\n",
            "Epoch 93/100\n",
            "32/32 [==============================] - 1s 44ms/step - loss: 0.0980 - accuracy: 0.9579 - val_loss: 0.8164 - val_accuracy: 0.8813\n",
            "Epoch 94/100\n",
            "32/32 [==============================] - 1s 39ms/step - loss: 0.0810 - accuracy: 0.9661 - val_loss: 1.0203 - val_accuracy: 0.8721\n",
            "Epoch 95/100\n",
            "32/32 [==============================] - 1s 40ms/step - loss: 0.0966 - accuracy: 0.9617 - val_loss: 0.9329 - val_accuracy: 0.8904\n",
            "Epoch 96/100\n",
            "32/32 [==============================] - 1s 40ms/step - loss: 0.0648 - accuracy: 0.9820 - val_loss: 0.9881 - val_accuracy: 0.8904\n",
            "Epoch 97/100\n",
            "32/32 [==============================] - 1s 39ms/step - loss: 0.1158 - accuracy: 0.9527 - val_loss: 0.8518 - val_accuracy: 0.8813\n",
            "Epoch 98/100\n",
            "32/32 [==============================] - 1s 39ms/step - loss: 0.0978 - accuracy: 0.9626 - val_loss: 0.9011 - val_accuracy: 0.8767\n",
            "Epoch 99/100\n",
            "32/32 [==============================] - 1s 40ms/step - loss: 0.0882 - accuracy: 0.9623 - val_loss: 1.0448 - val_accuracy: 0.8904\n",
            "Epoch 100/100\n",
            "32/32 [==============================] - 1s 40ms/step - loss: 0.0890 - accuracy: 0.9668 - val_loss: 0.8687 - val_accuracy: 0.8767\n"
          ],
          "name": "stdout"
        }
      ]
    },
    {
      "cell_type": "code",
      "metadata": {
        "colab": {
          "base_uri": "https://localhost:8080/",
          "height": 295
        },
        "id": "Zhtl7MXQc9jf",
        "outputId": "e5ced957-ce35-445f-d2cd-33ebcee74956"
      },
      "source": [
        "plt.plot(hist_2.history['loss'])\n",
        "plt.plot(hist_2.history['val_loss'])\n",
        "plt.title('Model loss')\n",
        "plt.ylabel('Loss')\n",
        "plt.xlabel('Epoch')\n",
        "plt.legend(['Train', 'Val'], loc='upper right')\n",
        "plt.show()"
      ],
      "execution_count": 24,
      "outputs": [
        {
          "output_type": "display_data",
          "data": {
            "image/png": "[encoded data removed]",
            "text/plain": [
              "<Figure size 432x288 with 1 Axes>"
            ]
          },
          "metadata": {
            "tags": [],
            "needs_background": "light"
          }
        }
      ]
    },
    {
      "cell_type": "code",
      "metadata": {
        "colab": {
          "base_uri": "https://localhost:8080/",
          "height": 295
        },
        "id": "RAnDgo6ddCdf",
        "outputId": "e1f5d331-9f06-46d0-c3b9-acba07898bb4"
      },
      "source": [
        "plt.plot(hist_2.history['accuracy'])\n",
        "plt.plot(hist_2.history['val_accuracy'])\n",
        "plt.title('Model accuracy')\n",
        "plt.ylabel('Accuracy')\n",
        "plt.xlabel('Epoch')\n",
        "plt.legend(['Train', 'Val'], loc='lower right')\n",
        "plt.show()"
      ],
      "execution_count": 26,
      "outputs": [
        {
          "output_type": "display_data",
          "data": {
            "image/png": "[encoded data removed]",
            "text/plain": [
              "<Figure size 432x288 with 1 Axes>"
            ]
          },
          "metadata": {
            "tags": [],
            "needs_background": "light"
          }
        }
      ]
    },
    {
      "cell_type": "markdown",
      "metadata": {
        "id": "MXkY3t8HdJ8u"
      },
      "source": [
        "# Strategies to reduce Overfitting\n"
      ]
    },
    {
      "cell_type": "code",
      "metadata": {
        "id": "eVrh9NG0dONV"
      },
      "source": [
        "# import code needed for dropout and regularization\n",
        "from keras.layers import Dropout\n",
        "from keras import regularizers"
      ],
      "execution_count": 27,
      "outputs": []
    },
    {
      "cell_type": "code",
      "metadata": {
        "id": "abvUAnd7daMt"
      },
      "source": [
        "model_3 = Sequential([\n",
        "    Dense(1000, activation='relu', kernel_regularizer=regularizers.l2(0.01), input_shape=(10,)),\n",
        "    Dropout(0.3),\n",
        "    Dense(1000, activation='relu', kernel_regularizer=regularizers.l2(0.01)),\n",
        "    Dropout(0.3),\n",
        "    Dense(1000, activation='relu', kernel_regularizer=regularizers.l2(0.01)),\n",
        "    Dropout(0.3),\n",
        "    Dense(1000, activation='relu', kernel_regularizer=regularizers.l2(0.01)),\n",
        "    Dropout(0.3),\n",
        "    Dense(1, activation='sigmoid', kernel_regularizer=regularizers.l2(0.01)),\n",
        "])"
      ],
      "execution_count": 29,
      "outputs": []
    },
    {
      "cell_type": "code",
      "metadata": {
        "id": "dikyCO-udcbb"
      },
      "source": [
        "model_3.compile(optimizer='adam',\n",
        "              loss='binary_crossentropy',\n",
        "              metrics=['accuracy'])"
      ],
      "execution_count": 30,
      "outputs": []
    },
    {
      "cell_type": "code",
      "metadata": {
        "colab": {
          "base_uri": "https://localhost:8080/"
        },
        "id": "id8d3FTZdsww",
        "outputId": "ae88afb9-8cbf-4fec-896c-67b51f3e4043"
      },
      "source": [
        "hist_3 = model_3.fit(X_train, Y_train,\n",
        "          batch_size=32, epochs=100,\n",
        "          validation_data=(X_val, Y_val))"
      ],
      "execution_count": 31,
      "outputs": [
        {
          "output_type": "stream",
          "text": [
            "Epoch 1/100\n",
            "32/32 [==============================] - 3s 64ms/step - loss: 21.1153 - accuracy: 0.5674 - val_loss: 3.9492 - val_accuracy: 0.7808\n",
            "Epoch 2/100\n",
            "32/32 [==============================] - 2s 49ms/step - loss: 2.5313 - accuracy: 0.8053 - val_loss: 0.7065 - val_accuracy: 0.8584\n",
            "Epoch 3/100\n",
            "32/32 [==============================] - 2s 50ms/step - loss: 0.5957 - accuracy: 0.8482 - val_loss: 0.5392 - val_accuracy: 0.8676\n",
            "Epoch 4/100\n",
            "32/32 [==============================] - 2s 49ms/step - loss: 0.4890 - accuracy: 0.8817 - val_loss: 0.5281 - val_accuracy: 0.8858\n",
            "Epoch 5/100\n",
            "32/32 [==============================] - 2s 49ms/step - loss: 0.5129 - accuracy: 0.8675 - val_loss: 0.5091 - val_accuracy: 0.8767\n",
            "Epoch 6/100\n",
            "32/32 [==============================] - 2s 49ms/step - loss: 0.4921 - accuracy: 0.8561 - val_loss: 0.5851 - val_accuracy: 0.8082\n",
            "Epoch 7/100\n",
            "32/32 [==============================] - 2s 50ms/step - loss: 0.4883 - accuracy: 0.8711 - val_loss: 0.4998 - val_accuracy: 0.8858\n",
            "Epoch 8/100\n",
            "32/32 [==============================] - 2s 49ms/step - loss: 0.4977 - accuracy: 0.8585 - val_loss: 0.5281 - val_accuracy: 0.8676\n",
            "Epoch 9/100\n",
            "32/32 [==============================] - 2s 50ms/step - loss: 0.4662 - accuracy: 0.8803 - val_loss: 0.4797 - val_accuracy: 0.8858\n",
            "Epoch 10/100\n",
            "32/32 [==============================] - 2s 49ms/step - loss: 0.4309 - accuracy: 0.8958 - val_loss: 0.5645 - val_accuracy: 0.8174\n",
            "Epoch 11/100\n",
            "32/32 [==============================] - 2s 49ms/step - loss: 0.5076 - accuracy: 0.8484 - val_loss: 0.4850 - val_accuracy: 0.8813\n",
            "Epoch 12/100\n",
            "32/32 [==============================] - 2s 51ms/step - loss: 0.4641 - accuracy: 0.8782 - val_loss: 0.4873 - val_accuracy: 0.8858\n",
            "Epoch 13/100\n",
            "32/32 [==============================] - 2s 50ms/step - loss: 0.4388 - accuracy: 0.8967 - val_loss: 0.4700 - val_accuracy: 0.8950\n",
            "Epoch 14/100\n",
            "32/32 [==============================] - 2s 48ms/step - loss: 0.4258 - accuracy: 0.8882 - val_loss: 0.4783 - val_accuracy: 0.8858\n",
            "Epoch 15/100\n",
            "32/32 [==============================] - 2s 49ms/step - loss: 0.4431 - accuracy: 0.8850 - val_loss: 0.4665 - val_accuracy: 0.9041\n",
            "Epoch 16/100\n",
            "32/32 [==============================] - 2s 51ms/step - loss: 0.4503 - accuracy: 0.8867 - val_loss: 0.5167 - val_accuracy: 0.8493\n",
            "Epoch 17/100\n",
            "32/32 [==============================] - 2s 50ms/step - loss: 0.4609 - accuracy: 0.8761 - val_loss: 0.4639 - val_accuracy: 0.8904\n",
            "Epoch 18/100\n",
            "32/32 [==============================] - 2s 52ms/step - loss: 0.4266 - accuracy: 0.8882 - val_loss: 0.4902 - val_accuracy: 0.8904\n",
            "Epoch 19/100\n",
            "32/32 [==============================] - 2s 51ms/step - loss: 0.4702 - accuracy: 0.8663 - val_loss: 0.4720 - val_accuracy: 0.8904\n",
            "Epoch 20/100\n",
            "32/32 [==============================] - 2s 50ms/step - loss: 0.4271 - accuracy: 0.8934 - val_loss: 0.4873 - val_accuracy: 0.8676\n",
            "Epoch 21/100\n",
            "32/32 [==============================] - 2s 50ms/step - loss: 0.4444 - accuracy: 0.8654 - val_loss: 0.4618 - val_accuracy: 0.8858\n",
            "Epoch 22/100\n",
            "32/32 [==============================] - 2s 49ms/step - loss: 0.4416 - accuracy: 0.8776 - val_loss: 0.4592 - val_accuracy: 0.8858\n",
            "Epoch 23/100\n",
            "32/32 [==============================] - 2s 49ms/step - loss: 0.4239 - accuracy: 0.8936 - val_loss: 0.4836 - val_accuracy: 0.8721\n",
            "Epoch 24/100\n",
            "32/32 [==============================] - 2s 51ms/step - loss: 0.4465 - accuracy: 0.8756 - val_loss: 0.5247 - val_accuracy: 0.8721\n",
            "Epoch 25/100\n",
            "32/32 [==============================] - 2s 50ms/step - loss: 0.4941 - accuracy: 0.8564 - val_loss: 0.4694 - val_accuracy: 0.8995\n",
            "Epoch 26/100\n",
            "32/32 [==============================] - 2s 49ms/step - loss: 0.4512 - accuracy: 0.8727 - val_loss: 0.5141 - val_accuracy: 0.8813\n",
            "Epoch 27/100\n",
            "32/32 [==============================] - 2s 48ms/step - loss: 0.4562 - accuracy: 0.8673 - val_loss: 0.4775 - val_accuracy: 0.8721\n",
            "Epoch 28/100\n",
            "32/32 [==============================] - 2s 49ms/step - loss: 0.4364 - accuracy: 0.8748 - val_loss: 0.4712 - val_accuracy: 0.8767\n",
            "Epoch 29/100\n",
            "32/32 [==============================] - 2s 49ms/step - loss: 0.4197 - accuracy: 0.9017 - val_loss: 0.4551 - val_accuracy: 0.8950\n",
            "Epoch 30/100\n",
            "32/32 [==============================] - 2s 51ms/step - loss: 0.4519 - accuracy: 0.8757 - val_loss: 0.4605 - val_accuracy: 0.8995\n",
            "Epoch 31/100\n",
            "32/32 [==============================] - 2s 49ms/step - loss: 0.4415 - accuracy: 0.8965 - val_loss: 0.4610 - val_accuracy: 0.9041\n",
            "Epoch 32/100\n",
            "32/32 [==============================] - 2s 51ms/step - loss: 0.4540 - accuracy: 0.8738 - val_loss: 0.4751 - val_accuracy: 0.8767\n",
            "Epoch 33/100\n",
            "32/32 [==============================] - 2s 50ms/step - loss: 0.4098 - accuracy: 0.8841 - val_loss: 0.4610 - val_accuracy: 0.8858\n",
            "Epoch 34/100\n",
            "32/32 [==============================] - 2s 53ms/step - loss: 0.4323 - accuracy: 0.8872 - val_loss: 0.4841 - val_accuracy: 0.8630\n",
            "Epoch 35/100\n",
            "32/32 [==============================] - 2s 55ms/step - loss: 0.4169 - accuracy: 0.9006 - val_loss: 0.5093 - val_accuracy: 0.8539\n",
            "Epoch 36/100\n",
            "32/32 [==============================] - 2s 51ms/step - loss: 0.4561 - accuracy: 0.8820 - val_loss: 0.4683 - val_accuracy: 0.8767\n",
            "Epoch 37/100\n",
            "32/32 [==============================] - 2s 50ms/step - loss: 0.4353 - accuracy: 0.8932 - val_loss: 0.4879 - val_accuracy: 0.8630\n",
            "Epoch 38/100\n",
            "32/32 [==============================] - 2s 48ms/step - loss: 0.4425 - accuracy: 0.8699 - val_loss: 0.5329 - val_accuracy: 0.8356\n",
            "Epoch 39/100\n",
            "32/32 [==============================] - 2s 48ms/step - loss: 0.4164 - accuracy: 0.8950 - val_loss: 0.4674 - val_accuracy: 0.8950\n",
            "Epoch 40/100\n",
            "32/32 [==============================] - 2s 49ms/step - loss: 0.3950 - accuracy: 0.9004 - val_loss: 0.4584 - val_accuracy: 0.8950\n",
            "Epoch 41/100\n",
            "32/32 [==============================] - 2s 50ms/step - loss: 0.4271 - accuracy: 0.8873 - val_loss: 0.4612 - val_accuracy: 0.8904\n",
            "Epoch 42/100\n",
            "32/32 [==============================] - 2s 49ms/step - loss: 0.4254 - accuracy: 0.9007 - val_loss: 0.4761 - val_accuracy: 0.9087\n",
            "Epoch 43/100\n",
            "32/32 [==============================] - 2s 50ms/step - loss: 0.4447 - accuracy: 0.8827 - val_loss: 0.4749 - val_accuracy: 0.8721\n",
            "Epoch 44/100\n",
            "32/32 [==============================] - 2s 51ms/step - loss: 0.4380 - accuracy: 0.8809 - val_loss: 0.4841 - val_accuracy: 0.8630\n",
            "Epoch 45/100\n",
            "32/32 [==============================] - 2s 53ms/step - loss: 0.4454 - accuracy: 0.8716 - val_loss: 0.4560 - val_accuracy: 0.8858\n",
            "Epoch 46/100\n",
            "32/32 [==============================] - 2s 52ms/step - loss: 0.4052 - accuracy: 0.9025 - val_loss: 0.4505 - val_accuracy: 0.9087\n",
            "Epoch 47/100\n",
            "32/32 [==============================] - 2s 51ms/step - loss: 0.4341 - accuracy: 0.8847 - val_loss: 0.4599 - val_accuracy: 0.8858\n",
            "Epoch 48/100\n",
            "32/32 [==============================] - 2s 52ms/step - loss: 0.4058 - accuracy: 0.8916 - val_loss: 0.4715 - val_accuracy: 0.8950\n",
            "Epoch 49/100\n",
            "32/32 [==============================] - 2s 53ms/step - loss: 0.4385 - accuracy: 0.8856 - val_loss: 0.4803 - val_accuracy: 0.8630\n",
            "Epoch 50/100\n",
            "32/32 [==============================] - 2s 52ms/step - loss: 0.4168 - accuracy: 0.8963 - val_loss: 0.4676 - val_accuracy: 0.8721\n",
            "Epoch 51/100\n",
            "32/32 [==============================] - 2s 51ms/step - loss: 0.4464 - accuracy: 0.8660 - val_loss: 0.4600 - val_accuracy: 0.9041\n",
            "Epoch 52/100\n",
            "32/32 [==============================] - 2s 52ms/step - loss: 0.4285 - accuracy: 0.8857 - val_loss: 0.4541 - val_accuracy: 0.9041\n",
            "Epoch 53/100\n",
            "32/32 [==============================] - 2s 53ms/step - loss: 0.4310 - accuracy: 0.8703 - val_loss: 0.4665 - val_accuracy: 0.8721\n",
            "Epoch 54/100\n",
            "32/32 [==============================] - 2s 53ms/step - loss: 0.4527 - accuracy: 0.8663 - val_loss: 0.4615 - val_accuracy: 0.8813\n",
            "Epoch 55/100\n",
            "32/32 [==============================] - 2s 54ms/step - loss: 0.3887 - accuracy: 0.8963 - val_loss: 0.4504 - val_accuracy: 0.8995\n",
            "Epoch 56/100\n",
            "32/32 [==============================] - 2s 51ms/step - loss: 0.4315 - accuracy: 0.8736 - val_loss: 0.4644 - val_accuracy: 0.8950\n",
            "Epoch 57/100\n",
            "32/32 [==============================] - 2s 51ms/step - loss: 0.4209 - accuracy: 0.8952 - val_loss: 0.5175 - val_accuracy: 0.8447\n",
            "Epoch 58/100\n",
            "32/32 [==============================] - 2s 50ms/step - loss: 0.4601 - accuracy: 0.8727 - val_loss: 0.4572 - val_accuracy: 0.8904\n",
            "Epoch 59/100\n",
            "32/32 [==============================] - 2s 50ms/step - loss: 0.4096 - accuracy: 0.8997 - val_loss: 0.4828 - val_accuracy: 0.8676\n",
            "Epoch 60/100\n",
            "32/32 [==============================] - 2s 50ms/step - loss: 0.4262 - accuracy: 0.8871 - val_loss: 0.4537 - val_accuracy: 0.9041\n",
            "Epoch 61/100\n",
            "32/32 [==============================] - 2s 50ms/step - loss: 0.4513 - accuracy: 0.8672 - val_loss: 0.4533 - val_accuracy: 0.8995\n",
            "Epoch 62/100\n",
            "32/32 [==============================] - 2s 52ms/step - loss: 0.4339 - accuracy: 0.8828 - val_loss: 0.4669 - val_accuracy: 0.8813\n",
            "Epoch 63/100\n",
            "32/32 [==============================] - 2s 51ms/step - loss: 0.4203 - accuracy: 0.8988 - val_loss: 0.4652 - val_accuracy: 0.8767\n",
            "Epoch 64/100\n",
            "32/32 [==============================] - 2s 52ms/step - loss: 0.4622 - accuracy: 0.8612 - val_loss: 0.4566 - val_accuracy: 0.8904\n",
            "Epoch 65/100\n",
            "32/32 [==============================] - 2s 51ms/step - loss: 0.4170 - accuracy: 0.8702 - val_loss: 0.4585 - val_accuracy: 0.8950\n",
            "Epoch 66/100\n",
            "32/32 [==============================] - 2s 50ms/step - loss: 0.4314 - accuracy: 0.8770 - val_loss: 0.4644 - val_accuracy: 0.8995\n",
            "Epoch 67/100\n",
            "32/32 [==============================] - 2s 51ms/step - loss: 0.4164 - accuracy: 0.8856 - val_loss: 0.4657 - val_accuracy: 0.8767\n",
            "Epoch 68/100\n",
            "32/32 [==============================] - 2s 52ms/step - loss: 0.4538 - accuracy: 0.8614 - val_loss: 0.4568 - val_accuracy: 0.9041\n",
            "Epoch 69/100\n",
            "32/32 [==============================] - 2s 50ms/step - loss: 0.4599 - accuracy: 0.8588 - val_loss: 0.4567 - val_accuracy: 0.8904\n",
            "Epoch 70/100\n",
            "32/32 [==============================] - 2s 52ms/step - loss: 0.4150 - accuracy: 0.9060 - val_loss: 0.4493 - val_accuracy: 0.8858\n",
            "Epoch 71/100\n",
            "32/32 [==============================] - 2s 51ms/step - loss: 0.4263 - accuracy: 0.8838 - val_loss: 0.4696 - val_accuracy: 0.8995\n",
            "Epoch 72/100\n",
            "32/32 [==============================] - 2s 51ms/step - loss: 0.4167 - accuracy: 0.8931 - val_loss: 0.4666 - val_accuracy: 0.8721\n",
            "Epoch 73/100\n",
            "32/32 [==============================] - 2s 52ms/step - loss: 0.4320 - accuracy: 0.8860 - val_loss: 0.4926 - val_accuracy: 0.8493\n",
            "Epoch 74/100\n",
            "32/32 [==============================] - 2s 53ms/step - loss: 0.4154 - accuracy: 0.9001 - val_loss: 0.5125 - val_accuracy: 0.8539\n",
            "Epoch 75/100\n",
            "32/32 [==============================] - 2s 53ms/step - loss: 0.4400 - accuracy: 0.8712 - val_loss: 0.4649 - val_accuracy: 0.8995\n",
            "Epoch 76/100\n",
            "32/32 [==============================] - 2s 49ms/step - loss: 0.4423 - accuracy: 0.8849 - val_loss: 0.4583 - val_accuracy: 0.8858\n",
            "Epoch 77/100\n",
            "32/32 [==============================] - 2s 52ms/step - loss: 0.4441 - accuracy: 0.8710 - val_loss: 0.4614 - val_accuracy: 0.8767\n",
            "Epoch 78/100\n",
            "32/32 [==============================] - 2s 52ms/step - loss: 0.4300 - accuracy: 0.8897 - val_loss: 0.4581 - val_accuracy: 0.8858\n",
            "Epoch 79/100\n",
            "32/32 [==============================] - 2s 50ms/step - loss: 0.4247 - accuracy: 0.8943 - val_loss: 0.4723 - val_accuracy: 0.8950\n",
            "Epoch 80/100\n",
            "32/32 [==============================] - 2s 52ms/step - loss: 0.4444 - accuracy: 0.8752 - val_loss: 0.4558 - val_accuracy: 0.8995\n",
            "Epoch 81/100\n",
            "32/32 [==============================] - 2s 51ms/step - loss: 0.4127 - accuracy: 0.8916 - val_loss: 0.4610 - val_accuracy: 0.8813\n",
            "Epoch 82/100\n",
            "32/32 [==============================] - 2s 54ms/step - loss: 0.4078 - accuracy: 0.8958 - val_loss: 0.4500 - val_accuracy: 0.8995\n",
            "Epoch 83/100\n",
            "32/32 [==============================] - 2s 50ms/step - loss: 0.4226 - accuracy: 0.8795 - val_loss: 0.5110 - val_accuracy: 0.8493\n",
            "Epoch 84/100\n",
            "32/32 [==============================] - 2s 51ms/step - loss: 0.4474 - accuracy: 0.8522 - val_loss: 0.4526 - val_accuracy: 0.8950\n",
            "Epoch 85/100\n",
            "32/32 [==============================] - 2s 50ms/step - loss: 0.4270 - accuracy: 0.8820 - val_loss: 0.4703 - val_accuracy: 0.8721\n",
            "Epoch 86/100\n",
            "32/32 [==============================] - 2s 53ms/step - loss: 0.4152 - accuracy: 0.8793 - val_loss: 0.4561 - val_accuracy: 0.8813\n",
            "Epoch 87/100\n",
            "32/32 [==============================] - 2s 52ms/step - loss: 0.4115 - accuracy: 0.8985 - val_loss: 0.4685 - val_accuracy: 0.8721\n",
            "Epoch 88/100\n",
            "32/32 [==============================] - 2s 52ms/step - loss: 0.4276 - accuracy: 0.8813 - val_loss: 0.4484 - val_accuracy: 0.8995\n",
            "Epoch 89/100\n",
            "32/32 [==============================] - 2s 50ms/step - loss: 0.3920 - accuracy: 0.8997 - val_loss: 0.4567 - val_accuracy: 0.8813\n",
            "Epoch 90/100\n",
            "32/32 [==============================] - 2s 50ms/step - loss: 0.4339 - accuracy: 0.8745 - val_loss: 0.5469 - val_accuracy: 0.8265\n",
            "Epoch 91/100\n",
            "32/32 [==============================] - 2s 49ms/step - loss: 0.4967 - accuracy: 0.8430 - val_loss: 0.5015 - val_accuracy: 0.8493\n",
            "Epoch 92/100\n",
            "32/32 [==============================] - 2s 54ms/step - loss: 0.4199 - accuracy: 0.8918 - val_loss: 0.4637 - val_accuracy: 0.8767\n",
            "Epoch 93/100\n",
            "32/32 [==============================] - 2s 53ms/step - loss: 0.4145 - accuracy: 0.8897 - val_loss: 0.4516 - val_accuracy: 0.8995\n",
            "Epoch 94/100\n",
            "32/32 [==============================] - 2s 52ms/step - loss: 0.4237 - accuracy: 0.8831 - val_loss: 0.4858 - val_accuracy: 0.8676\n",
            "Epoch 95/100\n",
            "32/32 [==============================] - 2s 48ms/step - loss: 0.4236 - accuracy: 0.8827 - val_loss: 0.4519 - val_accuracy: 0.8995\n",
            "Epoch 96/100\n",
            "32/32 [==============================] - 2s 52ms/step - loss: 0.4510 - accuracy: 0.8588 - val_loss: 0.4693 - val_accuracy: 0.8767\n",
            "Epoch 97/100\n",
            "32/32 [==============================] - 2s 53ms/step - loss: 0.4367 - accuracy: 0.8684 - val_loss: 0.4617 - val_accuracy: 0.8813\n",
            "Epoch 98/100\n",
            "32/32 [==============================] - 2s 53ms/step - loss: 0.4251 - accuracy: 0.8858 - val_loss: 0.4492 - val_accuracy: 0.8858\n",
            "Epoch 99/100\n",
            "32/32 [==============================] - 2s 54ms/step - loss: 0.4331 - accuracy: 0.8842 - val_loss: 0.4721 - val_accuracy: 0.8995\n",
            "Epoch 100/100\n",
            "32/32 [==============================] - 2s 52ms/step - loss: 0.4200 - accuracy: 0.8874 - val_loss: 0.5375 - val_accuracy: 0.8402\n"
          ],
          "name": "stdout"
        }
      ]
    },
    {
      "cell_type": "code",
      "metadata": {
        "colab": {
          "base_uri": "https://localhost:8080/",
          "height": 295
        },
        "id": "KyMCdQHzdzWa",
        "outputId": "f8ba01e4-b647-4984-897e-a0e9659b66f1"
      },
      "source": [
        "plt.plot(hist_3.history['loss'])\n",
        "plt.plot(hist_3.history['val_loss'])\n",
        "plt.title('Model loss')\n",
        "plt.ylabel('Loss')\n",
        "plt.xlabel('Epoch')\n",
        "plt.legend(['Train', 'Val'], loc='upper right')\n",
        "plt.ylim(top=1.2, bottom=0)\n",
        "plt.show()"
      ],
      "execution_count": 32,
      "outputs": [
        {
          "output_type": "display_data",
          "data": {
            "image/png": "[encoded data removed]",
            "text/plain": [
              "<Figure size 432x288 with 1 Axes>"
            ]
          },
          "metadata": {
            "tags": [],
            "needs_background": "light"
          }
        }
      ]
    },
    {
      "cell_type": "code",
      "metadata": {
        "colab": {
          "base_uri": "https://localhost:8080/",
          "height": 295
        },
        "id": "Q7Gy-OAxd1-b",
        "outputId": "6391df27-cdfa-4806-f613-a24d664fb5cd"
      },
      "source": [
        "plt.plot(hist_3.history['accuracy'])\n",
        "plt.plot(hist_3.history['val_accuracy'])\n",
        "plt.title('Model accuracy')\n",
        "plt.ylabel('Accuracy')\n",
        "plt.xlabel('Epoch')\n",
        "plt.legend(['Train', 'Val'], loc='lower right')\n",
        "plt.show()"
      ],
      "execution_count": 34,
      "outputs": [
        {
          "output_type": "display_data",
          "data": {
            "image/png": "[encoded data removed]",
            "text/plain": [
              "<Figure size 432x288 with 1 Axes>"
            ]
          },
          "metadata": {
            "tags": [],
            "needs_background": "light"
          }
        }
      ]
    }
  ]
}